{
 "cells": [
  {
   "cell_type": "code",
   "execution_count": 2,
   "metadata": {},
   "outputs": [
    {
     "name": "stdout",
     "output_type": "stream",
     "text": [
      "Requirement already satisfied: psycopg2 in /opt/conda/lib/python3.6/site-packages\r\n"
     ]
    }
   ],
   "source": [
    "!pip install psycopg2"
   ]
  },
  {
   "cell_type": "code",
   "execution_count": 4,
   "metadata": {},
   "outputs": [
    {
     "name": "stdout",
     "output_type": "stream",
     "text": [
      "/home/jovyan/lib\n"
     ]
    }
   ],
   "source": [
    "cd '/home/jovyan/lib'"
   ]
  },
  {
   "cell_type": "code",
   "execution_count": 5,
   "metadata": {
    "collapsed": true
   },
   "outputs": [],
   "source": [
    "#import psycopg2 as pg2\n",
    "#from psycopg2.extras import RealDictCursor\n",
    "import re\n",
    "import requests\n",
    "import db_helper as db\n",
    "#https://www.mediawiki.org/wiki/API:Search_and_discovery"
   ]
  },
  {
   "cell_type": "code",
   "execution_count": null,
   "metadata": {
    "collapsed": true
   },
   "outputs": [],
   "source": []
  },
  {
   "cell_type": "code",
   "execution_count": 178,
   "metadata": {},
   "outputs": [],
   "source": [
    "connection, cursor = db.connect_to_db()"
   ]
  },
  {
   "cell_type": "code",
   "execution_count": 7,
   "metadata": {
    "collapsed": true
   },
   "outputs": [],
   "source": [
    "def cleaner(text):\n",
    "    text = re.sub('[A-Z]\\\\n',' ', text)\n",
    "    text = re.sub('{.*}', '', text)\n",
    "    text = re.sub('\\s\\s', ' ', text)\n",
    "    text = re.sub('[^a-zA-Z ]',' ',text)\n",
    "    text = re.sub('\\\\t', ' ', text)\n",
    "    text = re.sub('\\s\\s', ' ', text)\n",
    "    #text = re.sub('[\\n]','', text)\n",
    "    ##text = re.sub('{[A-Za-z]}','', text)\n",
    "    #text = ' '.join(i.lemma_ for i in nltk(text)\n",
    "    #                if i.orth_ not in stop)\n",
    "    #text = ' '.join(text.split())\n",
    "    return text"
   ]
  },
  {
   "cell_type": "code",
   "execution_count": 21,
   "metadata": {},
   "outputs": [],
   "source": [
    "##only run this block if you want to drop all your tables\n",
    "\n",
    "drop_table = \"\"\"\n",
    "BEGIN;\n",
    "\n",
    "\n",
    "DROP TABLE PAGE_DATA;\n",
    "COMMIT;\n",
    "\"\"\"\n",
    "cursor.execute(drop_table)\n"
   ]
  },
  {
   "cell_type": "code",
   "execution_count": 24,
   "metadata": {},
   "outputs": [],
   "source": [
    "#only run this block if you need to create the tables\n",
    "create_table = \"\"\"\n",
    "BEGIN;\n",
    "CREATE TABLE PAGE_INFO (\n",
    "        PAGEID INTEGER PRIMARY KEY,\n",
    "        TITLE TEXT);\n",
    "        \n",
    "CREATE TABLE CATEGORY_INFO (\n",
    "        CATEGORYID SERIAL PRIMARY KEY,\n",
    "        CATEGORY_NAME TEXT);\n",
    "        \n",
    "CREATE TABLE PAGE_DATA (\n",
    "        PAGEID INTEGER PRIMARY KEY,\n",
    "        TITLE TEXT,\n",
    "        PAGE_TEXT TEXT );\n",
    "        \n",
    "CREATE TABLE CATEGORY_DATA (\n",
    "        CATEGORYID INTEGER ,\n",
    "        PAGEID INTEGER );\n",
    "\n",
    "COMMIT;\n",
    "\"\"\"\n",
    "cursor.execute(create_table)"
   ]
  },
  {
   "cell_type": "code",
   "execution_count": null,
   "metadata": {
    "collapsed": true
   },
   "outputs": [],
   "source": [
    "clear_table = \"\"\"\n",
    "BEGIN;\n",
    "DELETE FROM PAGE_DATA;\n",
    "COMMIT;\n",
    "\"\"\"\n",
    "cursor.execute(clear_table)"
   ]
  },
  {
   "cell_type": "code",
   "execution_count": 134,
   "metadata": {
    "collapsed": true
   },
   "outputs": [],
   "source": [
    "clear_table = \"\"\"\n",
    "BEGIN;\n",
    "DELETE FROM PAGE_INFO;\n",
    "COMMIT;\n",
    "DELETE FROM PAGE_DATA;\n",
    "COMMIT;\n",
    "DELETE FROM CATEGORY_DATA;\n",
    "COMMIT;\n",
    "DELETE FROM CATEGORY_INFO;\n",
    "COMMIT\n",
    "\"\"\"\n",
    "cursor.execute(clear_table)"
   ]
  },
  {
   "cell_type": "code",
   "execution_count": 188,
   "metadata": {
    "collapsed": true
   },
   "outputs": [],
   "source": [
    "def generate_category(category):\n",
    "    '''\n",
    "    format a category for insertion in to a wikipedia api call\n",
    "    '''\n",
    "    category = re.sub('\\s','_',category)\n",
    "    category = category.lower()\n",
    "    #print(category)\n",
    "    return category"
   ]
  },
  {
   "cell_type": "code",
   "execution_count": 189,
   "metadata": {
    "collapsed": true
   },
   "outputs": [],
   "source": [
    "def generate_query(category):\n",
    "    '''\n",
    "    Format an api call for requests\n",
    "    '''\n",
    "    query = \"\"\"\n",
    "            http://en.wikipedia.org/w/api.php?\n",
    "            action=query&\n",
    "            format=json&\n",
    "            list=categorymembers&\n",
    "            cmtitle=Category:{}& \n",
    "            cmlimit=max\n",
    "            \"\"\".format(generate_category(category))\n",
    "    query = re.sub('\\s','',query)\n",
    "    return query"
   ]
  },
  {
   "cell_type": "code",
   "execution_count": 91,
   "metadata": {},
   "outputs": [
    {
     "data": {
      "text/plain": [
       "[{'categoryid': 18}, {'categoryid': 19}]"
      ]
     },
     "execution_count": 91,
     "metadata": {},
     "output_type": "execute_result"
    }
   ],
   "source": [
    "category = 'machine_learning'\n",
    "select_stmt = \"\"\"\n",
    "SELECT CATEGORYID FROM CATEGORY_INFO where category_name = '{}';\n",
    "\"\"\".format(category)\n",
    "cursor.execute(select_stmt)\n",
    "cursor.fetchall()"
   ]
  },
  {
   "cell_type": "code",
   "execution_count": 190,
   "metadata": {},
   "outputs": [],
   "source": [
    "def get_page_ids(category, level=0):\n",
    "    #insert record into the Category Table and get the categoryID\n",
    "    #category = generate_category(category)\n",
    "    #print('1'+ category)\n",
    "    category = category.lower()\n",
    "    cursor.execute(\"SELECT CATEGORYID FROM CATEGORY_INFO where category_name = '{}';\".format(category))\n",
    "    cat_id = cursor.fetchall()\n",
    "    if not cat_id:\n",
    "        insert_category = \"\"\"\n",
    "                BEGIN;\n",
    "                INSERT INTO CATEGORY_INFO (CATEGORY_NAME) VALUES ('{}');\n",
    "                COMMIT;\n",
    "                    \"\"\".format(category.lower())\n",
    "        cursor.execute(insert_category)\n",
    "    cursor.execute(\"SELECT CATEGORYID FROM CATEGORY_INFO where category_name = '{}';\".format(category))\n",
    "    cat_id = cursor.fetchall()\n",
    "    cat_id = cat_id[0]['categoryid']\n",
    "    get_wikipedia_page_ids(category, cat_id, level)\n",
    "    \n",
    "    #pass CategoryID into recursive function to get pageID \n",
    "    #query = generate_query(category)"
   ]
  },
  {
   "cell_type": "code",
   "execution_count": 191,
   "metadata": {
    "collapsed": true,
    "scrolled": true
   },
   "outputs": [],
   "source": [
    "def get_wikipedia_page_ids(category, cat_id, level = 0):\n",
    "    #base_url = 'https://en.wikipedia.org/w/api.php'\n",
    "    #action = '?action=query'\n",
    "    #parameters = '&format=json&list=categorymembers&cmtitle=Category:' + category + '&cmlimit=max'\n",
    "    #rich_url = base_url+action+parameters\n",
    "    #print(rich_url)\n",
    "    #response_url = requests.get(rich_url)\n",
    "    #rich_url = generate_query(category)\n",
    "    #print( generate_query(category))\n",
    "    response_url = requests.get(generate_query(category))\n",
    "    #response_url\n",
    "    response_url.json()\n",
    "    id_list = response_url.json()['query']['categorymembers']\n",
    "    for x in id_list:\n",
    "        pageid = x['pageid']\n",
    "        title = x['title']\n",
    "        title = title.replace(\"'\", '\"')\n",
    "        if ('Category:' not in title):\n",
    "            #check to see if page already exists.  If it does do not insert again\n",
    "            cursor.execute(\"\"\"SELECT PAGEID FROM PAGE_INFO WHERE PAGEID = {};\"\"\".format(pageid))\n",
    "            page_exist = cursor.fetchall()\n",
    "            if not page_exist:\n",
    "                insert_stmt = \"\"\"\n",
    "                       BEGIN;\n",
    "                       INSERT INTO PAGE_INFO VALUES ({},'{}');\n",
    "                       COMMIT;\n",
    "                   \"\"\".format(pageid, title)\n",
    "                cursor.execute(insert_stmt)\n",
    "            #from here, insert category_id and page_id into category_data table\n",
    "            rec_exist = cursor.execute(\"\"\"SELECT CATEGORYID FROM CATEGORY_DATA WHERE CATEGORYID = {} AND PAGEID = {};\"\"\".format(cat_id, pageid))\n",
    "            if not rec_exist:\n",
    "                insert_stmt = \"\"\"\n",
    "                        BEGIN;\n",
    "                        INSERT INTO CATEGORY_DATA (CATEGORYID, PAGEID) VALUES ('{}', {});\n",
    "                        COMMIT;\n",
    "                    \"\"\".format(cat_id, pageid)\n",
    "                cursor.execute(insert_stmt)\n",
    "        else:\n",
    "            # if level > 0 decrease level by 1 and then make recursive call using sub-category as category \n",
    "            if level:\n",
    "                #print('here')\n",
    "                sub_cat = title.replace('Category:', '')\n",
    "                level -=1\n",
    "                get_wikipedia_page_ids(sub_cat, cat_id, level)\n",
    "                level +=1     \n",
    "            \n",
    "            \n",
    "           # #check if category already exists if so get the categoryid.\n",
    "           # cursor.execute(\"\"\"SELECT CATEGORY_ID FROM CATEGORY_DATA WHERE CATEGORY_NAME = '{}';\"\"\".format(category))\n",
    "           # cat_id = cursor.fetchall()\n",
    "           # if not cat_id:\n",
    "           #     insert_cat = \"\"\"\n",
    "           #             BEGIN;\n",
    "           #             INSERT INTO CATEGORY_DATA (CATEGORY_NAME, PAGEID) VALUES ('{}', {});\n",
    "           #             COMMIT;\n",
    "           #         \"\"\".format(category, pageid)\n",
    "           #     cursor.execute(insert_cat)\n",
    "           # else:\n",
    "           #     #print (cat_id[0]['category_id'])\n",
    "           #     insert_cat = \"\"\"\n",
    "           #             BEGIN;\n",
    "           #             INSERT INTO CATEGORY_DATA (CATEGORY_NAME, CATEGORY_ID, PAGEID) VALUES ('{}', {}, {});\n",
    "           #             COMMIT;\n",
    "           #     \"\"\".format(category, cat_id[0]['category_id'],pageid)\n",
    "           #     cursor.execute(insert_cat)\n",
    "           #     \n",
    "           # #cursor.execute(\"\"\"SELECT * FROM CATEGORY_DATA WHERE PAGEID = {}\"\"\".format(pageid))\n",
    "            #cat_exist = cursor.fetchall()\n",
    "            #if not cat_exist:\n",
    "            #    insert_cat = \"\"\"\n",
    "             #           BEGIN;\n",
    "             #           INSERT INTO CATEGORY_DATA (CATEGORY_NAME, PAGEID) VALUES ('{}', {});\n",
    "             #           COMMIT;\n",
    "             #       \"\"\".format(category, pageid)\n",
    "             #   cursor.execute(insert_cat)\n",
    "       # else:\n",
    "       #     if level:\n",
    "       #         sub_cat = title.replace('Category:', '')\n",
    "       #         #insert_subcat = \"\"\"\n",
    "       #         #    BEGIN;\n",
    "       #         #    INSERT INTO CATEGORY_DATA (CATEGORY_NAME, SUBCATEGORY_NAME, PAGEID) VALUES ('{}', '{}', {});\n",
    "       #         #    COMMIT;\n",
    "       #         #    \"\"\".format(category, sub_cat, pageid)\n",
    "       #         #cursor.execute(insert_subcat)\n",
    "       #         level -=1\n",
    "       #         get_wikipedia_page_ids(sub_cat,level)\n",
    "       #         level +=1\n",
    "    #"
   ]
  },
  {
   "cell_type": "code",
   "execution_count": 199,
   "metadata": {
    "collapsed": true
   },
   "outputs": [],
   "source": [
    "clear_table = \"\"\"\n",
    "BEGIN;\n",
    "DELETE FROM PAGE_INFO;\n",
    "COMMIT;\n",
    "DELETE FROM PAGE_DATA;\n",
    "COMMIT;\n",
    "DELETE FROM CATEGORY_DATA;\n",
    "COMMIT;\n",
    "DELETE FROM CATEGORY_INFO;\n",
    "COMMIT\n",
    "\"\"\"\n",
    "cursor.execute(clear_table)"
   ]
  },
  {
   "cell_type": "code",
   "execution_count": 200,
   "metadata": {
    "scrolled": false
   },
   "outputs": [
    {
     "name": "stdout",
     "output_type": "stream",
     "text": [
      "http://en.wikipedia.org/w/api.php?action=query&format=json&list=categorymembers&cmtitle=Category:machine_learning&cmlimit=max\n",
      "http://en.wikipedia.org/w/api.php?action=query&format=json&list=categorymembers&cmtitle=Category:applied_machine_learning&cmlimit=max\n",
      "http://en.wikipedia.org/w/api.php?action=query&format=json&list=categorymembers&cmtitle=Category:artificial_neural_networks&cmlimit=max\n",
      "http://en.wikipedia.org/w/api.php?action=query&format=json&list=categorymembers&cmtitle=Category:deep_learning&cmlimit=max\n",
      "http://en.wikipedia.org/w/api.php?action=query&format=json&list=categorymembers&cmtitle=Category:neural_network_software&cmlimit=max\n",
      "http://en.wikipedia.org/w/api.php?action=query&format=json&list=categorymembers&cmtitle=Category:bayesian_networks&cmlimit=max\n",
      "http://en.wikipedia.org/w/api.php?action=query&format=json&list=categorymembers&cmtitle=Category:classification_algorithms&cmlimit=max\n",
      "http://en.wikipedia.org/w/api.php?action=query&format=json&list=categorymembers&cmtitle=Category:artificial_neural_networks&cmlimit=max\n",
      "http://en.wikipedia.org/w/api.php?action=query&format=json&list=categorymembers&cmtitle=Category:decision_trees&cmlimit=max\n",
      "http://en.wikipedia.org/w/api.php?action=query&format=json&list=categorymembers&cmtitle=Category:ensemble_learning&cmlimit=max\n",
      "http://en.wikipedia.org/w/api.php?action=query&format=json&list=categorymembers&cmtitle=Category:cluster_analysis&cmlimit=max\n",
      "http://en.wikipedia.org/w/api.php?action=query&format=json&list=categorymembers&cmtitle=Category:cluster_analysis_algorithms&cmlimit=max\n",
      "http://en.wikipedia.org/w/api.php?action=query&format=json&list=categorymembers&cmtitle=Category:clustering_criteria&cmlimit=max\n",
      "http://en.wikipedia.org/w/api.php?action=query&format=json&list=categorymembers&cmtitle=Category:computational_learning_theory&cmlimit=max\n",
      "http://en.wikipedia.org/w/api.php?action=query&format=json&list=categorymembers&cmtitle=Category:artificial_intelligence_conferences&cmlimit=max\n",
      "http://en.wikipedia.org/w/api.php?action=query&format=json&list=categorymembers&cmtitle=Category:data_mining_and_machine_learning_software&cmlimit=max\n",
      "http://en.wikipedia.org/w/api.php?action=query&format=json&list=categorymembers&cmtitle=Category:social_network_analysis_software&cmlimit=max\n",
      "http://en.wikipedia.org/w/api.php?action=query&format=json&list=categorymembers&cmtitle=Category:datasets_in_machine_learning&cmlimit=max\n",
      "http://en.wikipedia.org/w/api.php?action=query&format=json&list=categorymembers&cmtitle=Category:datasets_in_computer_vision&cmlimit=max\n",
      "http://en.wikipedia.org/w/api.php?action=query&format=json&list=categorymembers&cmtitle=Category:dimension_reduction&cmlimit=max\n",
      "http://en.wikipedia.org/w/api.php?action=query&format=json&list=categorymembers&cmtitle=Category:factor_analysis&cmlimit=max\n",
      "http://en.wikipedia.org/w/api.php?action=query&format=json&list=categorymembers&cmtitle=Category:ensemble_learning&cmlimit=max\n",
      "http://en.wikipedia.org/w/api.php?action=query&format=json&list=categorymembers&cmtitle=Category:evolutionary_algorithms&cmlimit=max\n",
      "http://en.wikipedia.org/w/api.php?action=query&format=json&list=categorymembers&cmtitle=Category:gene_expression_programming&cmlimit=max\n",
      "http://en.wikipedia.org/w/api.php?action=query&format=json&list=categorymembers&cmtitle=Category:genetic_algorithms&cmlimit=max\n",
      "http://en.wikipedia.org/w/api.php?action=query&format=json&list=categorymembers&cmtitle=Category:genetic_programming&cmlimit=max\n",
      "http://en.wikipedia.org/w/api.php?action=query&format=json&list=categorymembers&cmtitle=Category:nature-inspired_metaheuristics&cmlimit=max\n",
      "http://en.wikipedia.org/w/api.php?action=query&format=json&list=categorymembers&cmtitle=Category:genetic_programming&cmlimit=max\n",
      "http://en.wikipedia.org/w/api.php?action=query&format=json&list=categorymembers&cmtitle=Category:inductive_logic_programming&cmlimit=max\n",
      "http://en.wikipedia.org/w/api.php?action=query&format=json&list=categorymembers&cmtitle=Category:kernel_methods_for_machine_learning&cmlimit=max\n",
      "http://en.wikipedia.org/w/api.php?action=query&format=json&list=categorymembers&cmtitle=Category:support_vector_machines&cmlimit=max\n",
      "http://en.wikipedia.org/w/api.php?action=query&format=json&list=categorymembers&cmtitle=Category:latent_variable_models&cmlimit=max\n",
      "http://en.wikipedia.org/w/api.php?action=query&format=json&list=categorymembers&cmtitle=Category:factor_analysis&cmlimit=max\n",
      "http://en.wikipedia.org/w/api.php?action=query&format=json&list=categorymembers&cmtitle=Category:structural_equation_models&cmlimit=max\n",
      "http://en.wikipedia.org/w/api.php?action=query&format=json&list=categorymembers&cmtitle=Category:learning_in_computer_vision&cmlimit=max\n",
      "http://en.wikipedia.org/w/api.php?action=query&format=json&list=categorymembers&cmtitle=Category:log-linear_models&cmlimit=max\n",
      "http://en.wikipedia.org/w/api.php?action=query&format=json&list=categorymembers&cmtitle=Category:loss_functions&cmlimit=max\n",
      "http://en.wikipedia.org/w/api.php?action=query&format=json&list=categorymembers&cmtitle=Category:machine_learning_algorithms&cmlimit=max\n",
      "http://en.wikipedia.org/w/api.php?action=query&format=json&list=categorymembers&cmtitle=Category:genetic_algorithms&cmlimit=max\n",
      "http://en.wikipedia.org/w/api.php?action=query&format=json&list=categorymembers&cmtitle=Category:machine_learning_portal&cmlimit=max\n",
      "http://en.wikipedia.org/w/api.php?action=query&format=json&list=categorymembers&cmtitle=Category:machine_learning_task&cmlimit=max\n",
      "http://en.wikipedia.org/w/api.php?action=query&format=json&list=categorymembers&cmtitle=Category:markov_models&cmlimit=max\n",
      "http://en.wikipedia.org/w/api.php?action=query&format=json&list=categorymembers&cmtitle=Category:hidden_markov_models&cmlimit=max\n",
      "http://en.wikipedia.org/w/api.php?action=query&format=json&list=categorymembers&cmtitle=Category:markov_networks&cmlimit=max\n",
      "http://en.wikipedia.org/w/api.php?action=query&format=json&list=categorymembers&cmtitle=Category:machine_learning_researchers&cmlimit=max\n",
      "http://en.wikipedia.org/w/api.php?action=query&format=json&list=categorymembers&cmtitle=Category:semisupervised_learning&cmlimit=max\n",
      "http://en.wikipedia.org/w/api.php?action=query&format=json&list=categorymembers&cmtitle=Category:statistical_natural_language_processing&cmlimit=max\n",
      "http://en.wikipedia.org/w/api.php?action=query&format=json&list=categorymembers&cmtitle=Category:language_modeling&cmlimit=max\n",
      "http://en.wikipedia.org/w/api.php?action=query&format=json&list=categorymembers&cmtitle=Category:structured_prediction&cmlimit=max\n",
      "http://en.wikipedia.org/w/api.php?action=query&format=json&list=categorymembers&cmtitle=Category:graphical_models&cmlimit=max\n",
      "http://en.wikipedia.org/w/api.php?action=query&format=json&list=categorymembers&cmtitle=Category:supervised_learning&cmlimit=max\n",
      "http://en.wikipedia.org/w/api.php?action=query&format=json&list=categorymembers&cmtitle=Category:support_vector_machines&cmlimit=max\n",
      "http://en.wikipedia.org/w/api.php?action=query&format=json&list=categorymembers&cmtitle=Category:unsupervised_learning&cmlimit=max\n"
     ]
    }
   ],
   "source": [
    "get_page_ids('Machine Learning', 2)"
   ]
  },
  {
   "cell_type": "code",
   "execution_count": 201,
   "metadata": {},
   "outputs": [
    {
     "data": {
      "text/plain": [
       "[{'count': 1073}]"
      ]
     },
     "execution_count": 201,
     "metadata": {},
     "output_type": "execute_result"
    }
   ],
   "source": [
    "select_stmt = \"\"\"\n",
    "SELECT count(*) FROM page_info;\n",
    "\"\"\"\n",
    "cursor.execute(select_stmt)\n",
    "cursor.fetchall()"
   ]
  },
  {
   "cell_type": "code",
   "execution_count": 35,
   "metadata": {
    "collapsed": true
   },
   "outputs": [],
   "source": [
    "clear_table = \"\"\"\n",
    "BEGIN;\n",
    "DELETE FROM PAGE_INFO;\n",
    "COMMIT;\n",
    "DELETE FROM CATEGORY_DATA;\n",
    "COMMIT;\n",
    "\"\"\"\n",
    "cursor.execute(clear_table)"
   ]
  },
  {
   "cell_type": "code",
   "execution_count": null,
   "metadata": {
    "collapsed": true
   },
   "outputs": [],
   "source": [
    "#get_wikipedia_page_ids('Botany',3)"
   ]
  },
  {
   "cell_type": "code",
   "execution_count": 40,
   "metadata": {},
   "outputs": [
    {
     "data": {
      "text/plain": [
       "[{'count': 1606}]"
      ]
     },
     "execution_count": 40,
     "metadata": {},
     "output_type": "execute_result"
    }
   ],
   "source": [
    "select_stmt = \"\"\"\n",
    "SELECT count(*) FROM CATEGORY_DATA;\n",
    "\"\"\"\n",
    "cursor.execute(select_stmt)\n",
    "cursor.fetchall()"
   ]
  },
  {
   "cell_type": "code",
   "execution_count": null,
   "metadata": {
    "collapsed": true
   },
   "outputs": [],
   "source": [
    "select_stmt = \"\"\"\n",
    "SELECT * FROM CATEGORY_INFO A, PAGE_INFO B where A.PAGEID = B.PAGEID AND B.title = 'Deeplearning4j';\n",
    "\"\"\"\n",
    "cursor.execute(select_stmt)\n",
    "cursor.fetchall()"
   ]
  },
  {
   "cell_type": "code",
   "execution_count": null,
   "metadata": {
    "collapsed": true
   },
   "outputs": [],
   "source": [
    "def get_wikipedia_page_text():\n",
    "    select_stmt = \"\"\"\n",
    "            SELECT A.PAGEID,A.TITLE FROM PAGE_INFO A LEFT OUTER JOIN PAGE_DATA B ON A.PAGEID = B.PAGEID WHERE B.PAGEID IS NULL ;\n",
    "        \"\"\"\n",
    "    cursor.execute(select_stmt)\n",
    "    result = cursor.fetchall()\n",
    "    for item in result:\n",
    "        pageid = item['pageid']\n",
    "        title = item['title']\n",
    "        base_url = 'https://en.wikipedia.org/w/api.php'\n",
    "        action = '?action=query'\n",
    "        parameter2 = '&format=json&prop=extracts&explaintext=True&pageids=' + str(pageid)\n",
    "        rich_url = base_url+action+parameter2\n",
    "        response_url = requests.get(rich_url)\n",
    "        r_text = response_url.json()['query']['pages'][str(pageid)]['extract']\n",
    "        r_text = r_text.replace(\"'\", '\"')\n",
    "        r_text = cleaner(r_text)\n",
    "        insert_stmt = \"\"\"\n",
    "                    BEGIN;\n",
    "                    INSERT INTO PAGE_DATA VALUES ({},'{}', '{}');\n",
    "                    COMMIT;\n",
    "        \"\"\".format(pageid, title, r_text)\n",
    "        cursor.execute(insert_stmt)  "
   ]
  },
  {
   "cell_type": "code",
   "execution_count": null,
   "metadata": {
    "collapsed": true
   },
   "outputs": [],
   "source": [
    "get_wikipedia_page_text()"
   ]
  },
  {
   "cell_type": "code",
   "execution_count": null,
   "metadata": {
    "collapsed": true
   },
   "outputs": [],
   "source": []
  }
 ],
 "metadata": {
  "kernelspec": {
   "display_name": "Python 3",
   "language": "python",
   "name": "python3"
  },
  "language_info": {
   "codemirror_mode": {
    "name": "ipython",
    "version": 3
   },
   "file_extension": ".py",
   "mimetype": "text/x-python",
   "name": "python",
   "nbconvert_exporter": "python",
   "pygments_lexer": "ipython3",
   "version": "3.6.1"
  }
 },
 "nbformat": 4,
 "nbformat_minor": 2
}
