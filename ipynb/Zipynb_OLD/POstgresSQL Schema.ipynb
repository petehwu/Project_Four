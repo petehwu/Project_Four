{
 "cells": [
  {
   "cell_type": "markdown",
   "metadata": {},
   "source": [
    "WE will want the following two tables:\n",
    "page"
   ]
  },
  {
   "cell_type": "markdown",
   "metadata": {},
   "source": [
    "|page_id | title |\n",
    "|:-:|:-:|\n",
    "| 1 | logistic regression |\n",
    "| 2 | perceptron | \n",
    "| 3 | random forest | \n",
    "\n",
    "| category_id | title|\n",
    "|:-:|:-:|\n",
    "| 1 | machine learning |\n",
    "| 2 | linear models |\n",
    "| 3 | tree models |\n",
    "\n",
    "\n",
    "|p_c_id | p_id | c_id|\n",
    "|:-:|:-:|:-:|\n",
    "| 1 | 1 | 1 |\n",
    "| 2 | 1 | 2 |\n",
    "| 3 | 2 | 1 |\n",
    "| 4 | 2 | 2 |\n",
    "| 5 | 3 | 1 |\n",
    "| 6 | 3 | 3 |\n"
   ]
  },
  {
   "cell_type": "code",
   "execution_count": 1,
   "metadata": {
    "collapsed": true
   },
   "outputs": [],
   "source": [
    "page\n",
    "----\n",
    "title\n",
    "page_id\n",
    "top_level_subheadings\n",
    "notes\n",
    "\n",
    "category\n",
    "----\n",
    "category_id\n",
    "title\n",
    "\n",
    "page-category(this is the junction table for the many to many relationship between page and category)\n",
    "-------\n",
    "page_category_id\n",
    "page_id\n",
    "category_id"
   ]
  },
  {
   "cell_type": "code",
   "execution_count": 1,
   "metadata": {
    "collapsed": true
   },
   "outputs": [],
   "source": [
    "import pandas as pd\n"
   ]
  },
  {
   "cell_type": "code",
   "execution_count": null,
   "metadata": {
    "collapsed": true
   },
   "outputs": [],
   "source": [
    "pd.DataFrame.to_csv()"
   ]
  }
 ],
 "metadata": {
  "kernelspec": {
   "display_name": "Python 3",
   "language": "python",
   "name": "python3"
  },
  "language_info": {
   "codemirror_mode": {
    "name": "ipython",
    "version": 3
   },
   "file_extension": ".py",
   "mimetype": "text/x-python",
   "name": "python",
   "nbconvert_exporter": "python",
   "pygments_lexer": "ipython3",
   "version": "3.6.1"
  }
 },
 "nbformat": 4,
 "nbformat_minor": 2
}
