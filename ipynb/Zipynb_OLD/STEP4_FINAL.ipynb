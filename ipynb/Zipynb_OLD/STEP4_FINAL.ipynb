{
 "cells": [
  {
   "cell_type": "code",
   "execution_count": null,
   "metadata": {
    "collapsed": true
   },
   "outputs": [],
   "source": [
    "from sklearn.externals import joblib\n",
    "import re\n",
    "import requests\n",
    "import pandas as pd"
   ]
  },
  {
   "cell_type": "code",
   "execution_count": null,
   "metadata": {
    "collapsed": true
   },
   "outputs": [],
   "source": [
    "#cd '/home/jovyan/pkl'"
   ]
  },
  {
   "cell_type": "code",
   "execution_count": null,
   "metadata": {
    "collapsed": true
   },
   "outputs": [],
   "source": [
    "tfidf_vec = joblib.load('/home/jovyan/pkl/tfidf_vec.pkl')\n",
    "prediction_model = joblib.load('/home/jovyan/pkl/prediction_model.pkl')"
   ]
  },
  {
   "cell_type": "code",
   "execution_count": null,
   "metadata": {
    "collapsed": true
   },
   "outputs": [],
   "source": [
    "def cleaner(text):\n",
    "    text = re.sub('[A-Z]\\\\n',' ', text)\n",
    "    text = re.sub('{.*}', '', text)\n",
    "    text = re.sub('\\s\\s', ' ', text)\n",
    "    text = re.sub('[^a-zA-Z ]',' ',text)\n",
    "    text = re.sub('\\\\t', ' ', text)\n",
    "    text = re.sub('\\s\\s', ' ', text)\n",
    "    return text"
   ]
  },
  {
   "cell_type": "code",
   "execution_count": null,
   "metadata": {
    "collapsed": true
   },
   "outputs": [],
   "source": [
    "title = extract_title_from_url('https://en.wikipedia.org/wiki/Epos_Now')\n",
    "title"
   ]
  },
  {
   "cell_type": "code",
   "execution_count": null,
   "metadata": {
    "collapsed": true
   },
   "outputs": [],
   "source": [
    "def generate_page_query(url):\n",
    "    '''\n",
    "    Format an api call for requests\n",
    "    '''\n",
    "    query = \"\"\"http://en.wikipedia.org/w/api.php?action=query&format=json&prop=extracts&explaintext=True&titles={}\"\"\".format(url.split('/')[-1])\n",
    "    return query"
   ]
  },
  {
   "cell_type": "code",
   "execution_count": null,
   "metadata": {
    "collapsed": true
   },
   "outputs": [],
   "source": [
    "query = 'https://en.wikipedia.org/wiki/Epos_Now'\n",
    "response_url = requests.get(generate_page_query(query))"
   ]
  },
  {
   "cell_type": "code",
   "execution_count": null,
   "metadata": {
    "collapsed": true
   },
   "outputs": [],
   "source": [
    "response_url"
   ]
  },
  {
   "cell_type": "code",
   "execution_count": null,
   "metadata": {
    "collapsed": true
   },
   "outputs": [],
   "source": [
    "page_id = list(response_url.json()['query']['pages'].keys())[0]\n",
    "if int(page_id) == -1:\n",
    "    print ('Invalid URL given or wikipedia page not found')\n",
    "else:\n",
    "    page_text = response_url.json()['query']['pages'][page_id]['extract']\n",
    "cleaned_text = cleaner(page_text)\n",
    "cleaned_text = [cleaned_text]\n",
    "type(cleaned_text)\n",
    "X = tfidf_vec.transform(cleaned_text)\n",
    "predicted_category = prediction_model.predict(X)[0]\n",
    "probability = list(zip(prediction_model.classes_, prediction_model.predict_proba(X)[0]))\n",
    "\n",
    "proba_dict = {}\n",
    "for key, val in enumerate(prediction_model.classes_):\n",
    "    print(val)\n",
    "    print(prediction_model.predict_proba(X)[0][key])\n",
    "    proba_dict[val] = prediction_model.predict_proba(X)[0][key]\n",
    "proba_dict"
   ]
  },
  {
   "cell_type": "code",
   "execution_count": null,
   "metadata": {
    "collapsed": true
   },
   "outputs": [],
   "source": [
    "predicted_category[0]"
   ]
  },
  {
   "cell_type": "code",
   "execution_count": null,
   "metadata": {
    "collapsed": true
   },
   "outputs": [],
   "source": [
    "probability"
   ]
  },
  {
   "cell_type": "markdown",
   "metadata": {},
   "source": [
    "## Only the code block below is needed to go into the python file."
   ]
  },
  {
   "cell_type": "code",
   "execution_count": 1,
   "metadata": {
    "collapsed": true
   },
   "outputs": [],
   "source": [
    "from sklearn.externals import joblib\n",
    "from collections import defaultdict\n",
    "import re\n",
    "import requests\n",
    "import pandas as pd\n",
    "tfidf_vec = joblib.load('/home/jovyan/pkl/tfidf_vec.pkl')\n",
    "prediction_model = joblib.load('/home/jovyan/pkl/prediction_model.pkl')\n",
    "\n",
    "def cleaner(text):\n",
    "    text = re.sub('[A-Z]\\\\n',' ', text)\n",
    "    text = re.sub('{.*}', '', text)\n",
    "    text = re.sub('\\s\\s', ' ', text)\n",
    "    text = re.sub('[^a-zA-Z ]',' ',text)\n",
    "    text = re.sub('\\\\t', ' ', text)\n",
    "    text = re.sub('\\s\\s', ' ', text)\n",
    "    return text\n",
    "\n",
    "def generate_page_query(url):\n",
    "    '''\n",
    "    Format an api call for requests\n",
    "    '''\n",
    "    query = \"\"\"http://en.wikipedia.org/w/api.php?action=query&format=json&prop=extracts&explaintext=True&titles={}\"\"\".format(url.split('/')[-1])\n",
    "    return query\n",
    "\n",
    "def make_page_prediction(url):\n",
    "    response_url = requests.get(generate_page_query(url))\n",
    "    page_id = list(response_url.json()['query']['pages'].keys())[0]\n",
    "    \n",
    "    if int(page_id) == -1:\n",
    "        print ('Invalid URL given or wikipedia page not found')\n",
    "    else:\n",
    "        page_text = response_url.json()['query']['pages'][page_id]['extract']\n",
    "        #cleaned_text = cleaner(page_text)\n",
    "        #cleaned_text = [cleaned_text]\n",
    "        #type(cleaned_text)\n",
    "        X = tfidf_vec.transform([cleaner(page_text)])\n",
    "        predicted_category = prediction_model.predict(X)[0]   \n",
    "        proba_dict = {}\n",
    "        for key, val in enumerate(prediction_model.classes_):\n",
    "            proba_dict[val] = prediction_model.predict_proba(X)[0][key]\n",
    "    return predicted_category, proba_dict[predicted_category]"
   ]
  },
  {
   "cell_type": "code",
   "execution_count": 2,
   "metadata": {},
   "outputs": [
    {
     "name": "stdout",
     "output_type": "stream",
     "text": [
      "Page: https://en.wikipedia.org/wiki/Restricted_Boltzmann_machine \n",
      "Predicted Category: machine_learning \n",
      "Probability: 0.9998701554385739\n"
     ]
    }
   ],
   "source": [
    "url = 'https://en.wikipedia.org/wiki/Restricted_Boltzmann_machine'\n",
    "cat, proba = make_page_prediction(url)\n",
    "print('Page: {} \\nPredicted Category: {} \\nProbability: {}'.format(url, cat, proba))\n"
   ]
  },
  {
   "cell_type": "code",
   "execution_count": null,
   "metadata": {
    "collapsed": true
   },
   "outputs": [],
   "source": []
  }
 ],
 "metadata": {
  "kernelspec": {
   "display_name": "Python 3",
   "language": "python",
   "name": "python3"
  },
  "language_info": {
   "codemirror_mode": {
    "name": "ipython",
    "version": 3
   },
   "file_extension": ".py",
   "mimetype": "text/x-python",
   "name": "python",
   "nbconvert_exporter": "python",
   "pygments_lexer": "ipython3",
   "version": "3.6.1"
  }
 },
 "nbformat": 4,
 "nbformat_minor": 2
}
