{
 "cells": [
  {
   "cell_type": "code",
   "execution_count": 47,
   "metadata": {},
   "outputs": [
    {
     "name": "stdout",
     "output_type": "stream",
     "text": [
      "/home/jovyan/lib\n"
     ]
    }
   ],
   "source": [
    "cd '/home/jovyan/lib'"
   ]
  },
  {
   "cell_type": "code",
   "execution_count": 48,
   "metadata": {
    "collapsed": true
   },
   "outputs": [],
   "source": [
    "import re\n",
    "import requests\n",
    "import db_helper as db\n",
    "import pandas as pd\n",
    "import numpy as np\n",
    "import matplotlib.pyplot as plt\n",
    "from sklearn.preprocessing import LabelEncoder\n",
    "from sklearn.decomposition import TruncatedSVD\n",
    "from sklearn.preprocessing import Normalizer\n",
    "from sklearn.pipeline import make_pipeline, Pipeline\n",
    "from sklearn.feature_extraction.text import TfidfVectorizer\n",
    "from sklearn.metrics import pairwise_distances\n",
    "import seaborn as sns\n",
    "%matplotlib inline"
   ]
  },
  {
   "cell_type": "code",
   "execution_count": 49,
   "metadata": {
    "collapsed": true
   },
   "outputs": [],
   "source": [
    "#connection, cursor = db.connect_to_db()"
   ]
  },
  {
   "cell_type": "code",
   "execution_count": 85,
   "metadata": {
    "collapsed": true
   },
   "outputs": [],
   "source": [
    "get_some_docs = \"\"\"\n",
    "with tb1 as( SELECT A.PAGEID, A.TITLE, A.PAGE_TEXT, C.CATEGORY_NAME FROM PAGE_DATA A, CATEGORY_DATA B, CATEGORY_INFO C\n",
    "WHERE A.PAGEID = B.PAGEID AND B.MAINCATEGORYID = C.CATEGORYID AND C.CATEGORY_NAME = 'machine_learning' limit 500),\n",
    "tb2 as \n",
    "(SELECT A.PAGEID, A.PAGE_TEXT, A.TITLE, C.CATEGORY_NAME FROM PAGE_DATA A, CATEGORY_DATA B, CATEGORY_INFO C\n",
    "WHERE A.PAGEID = B.PAGEID AND B.MAINCATEGORYID = C.CATEGORYID AND C.CATEGORY_NAME = 'business_software' limit 500)\n",
    "select * from tb1 union all select * from tb2;\n",
    "\"\"\""
   ]
  },
  {
   "cell_type": "code",
   "execution_count": 86,
   "metadata": {
    "collapsed": true
   },
   "outputs": [],
   "source": [
    "df = db.query_to_dataframe(get_some_docs)\n",
    "df2 = df.copy(deep=True)"
   ]
  },
  {
   "cell_type": "code",
   "execution_count": 87,
   "metadata": {},
   "outputs": [
    {
     "data": {
      "text/plain": [
       "(1000, 4)"
      ]
     },
     "execution_count": 87,
     "metadata": {},
     "output_type": "execute_result"
    }
   ],
   "source": [
    "df.shape"
   ]
  },
  {
   "cell_type": "code",
   "execution_count": 88,
   "metadata": {},
   "outputs": [
    {
     "data": {
      "text/html": [
       "<div>\n",
       "<style>\n",
       "    .dataframe thead tr:only-child th {\n",
       "        text-align: right;\n",
       "    }\n",
       "\n",
       "    .dataframe thead th {\n",
       "        text-align: left;\n",
       "    }\n",
       "\n",
       "    .dataframe tbody tr th {\n",
       "        vertical-align: top;\n",
       "    }\n",
       "</style>\n",
       "<table border=\"1\" class=\"dataframe\">\n",
       "  <thead>\n",
       "    <tr style=\"text-align: right;\">\n",
       "      <th></th>\n",
       "      <th>category_name</th>\n",
       "      <th>page_text</th>\n",
       "      <th>pageid</th>\n",
       "      <th>title</th>\n",
       "    </tr>\n",
       "  </thead>\n",
       "  <tbody>\n",
       "    <tr>\n",
       "      <th>0</th>\n",
       "      <td>machine_learning</td>\n",
       "      <td>Data exploration is an approach similar to ini...</td>\n",
       "      <td>43385931</td>\n",
       "      <td>Data exploration</td>\n",
       "    </tr>\n",
       "    <tr>\n",
       "      <th>1</th>\n",
       "      <td>machine_learning</td>\n",
       "      <td>These datasets are used for machine learning r...</td>\n",
       "      <td>49082762</td>\n",
       "      <td>List of datasets for machine learning research</td>\n",
       "    </tr>\n",
       "    <tr>\n",
       "      <th>2</th>\n",
       "      <td>machine_learning</td>\n",
       "      <td>These datasets are used for machine learning r...</td>\n",
       "      <td>49082762</td>\n",
       "      <td>List of datasets for machine learning research</td>\n",
       "    </tr>\n",
       "    <tr>\n",
       "      <th>3</th>\n",
       "      <td>machine_learning</td>\n",
       "      <td>Machine learning is the subfield of computer s...</td>\n",
       "      <td>233488</td>\n",
       "      <td>Machine learning</td>\n",
       "    </tr>\n",
       "    <tr>\n",
       "      <th>4</th>\n",
       "      <td>machine_learning</td>\n",
       "      <td>The following outline is provided as an overvi...</td>\n",
       "      <td>53587467</td>\n",
       "      <td>Outline of machine learning</td>\n",
       "    </tr>\n",
       "  </tbody>\n",
       "</table>\n",
       "</div>"
      ],
      "text/plain": [
       "      category_name                                          page_text  \\\n",
       "0  machine_learning  Data exploration is an approach similar to ini...   \n",
       "1  machine_learning  These datasets are used for machine learning r...   \n",
       "2  machine_learning  These datasets are used for machine learning r...   \n",
       "3  machine_learning  Machine learning is the subfield of computer s...   \n",
       "4  machine_learning  The following outline is provided as an overvi...   \n",
       "\n",
       "     pageid                                           title  \n",
       "0  43385931                                Data exploration  \n",
       "1  49082762  List of datasets for machine learning research  \n",
       "2  49082762  List of datasets for machine learning research  \n",
       "3    233488                                Machine learning  \n",
       "4  53587467                     Outline of machine learning  "
      ]
     },
     "execution_count": 88,
     "metadata": {},
     "output_type": "execute_result"
    }
   ],
   "source": [
    "df.head()"
   ]
  },
  {
   "cell_type": "code",
   "execution_count": 89,
   "metadata": {},
   "outputs": [
    {
     "data": {
      "text/html": [
       "<div>\n",
       "<style>\n",
       "    .dataframe thead tr:only-child th {\n",
       "        text-align: right;\n",
       "    }\n",
       "\n",
       "    .dataframe thead th {\n",
       "        text-align: left;\n",
       "    }\n",
       "\n",
       "    .dataframe tbody tr th {\n",
       "        vertical-align: top;\n",
       "    }\n",
       "</style>\n",
       "<table border=\"1\" class=\"dataframe\">\n",
       "  <thead>\n",
       "    <tr style=\"text-align: right;\">\n",
       "      <th></th>\n",
       "      <th>category_name</th>\n",
       "      <th>page_text</th>\n",
       "      <th>pageid</th>\n",
       "      <th>title</th>\n",
       "    </tr>\n",
       "  </thead>\n",
       "  <tbody>\n",
       "    <tr>\n",
       "      <th>0</th>\n",
       "      <td>machine_learning</td>\n",
       "      <td>Data exploration is an approach similar to ini...</td>\n",
       "      <td>43385931</td>\n",
       "      <td>Data exploration</td>\n",
       "    </tr>\n",
       "    <tr>\n",
       "      <th>1</th>\n",
       "      <td>machine_learning</td>\n",
       "      <td>These datasets are used for machine learning r...</td>\n",
       "      <td>49082762</td>\n",
       "      <td>List of datasets for machine learning research</td>\n",
       "    </tr>\n",
       "    <tr>\n",
       "      <th>2</th>\n",
       "      <td>machine_learning</td>\n",
       "      <td>These datasets are used for machine learning r...</td>\n",
       "      <td>49082762</td>\n",
       "      <td>List of datasets for machine learning research</td>\n",
       "    </tr>\n",
       "    <tr>\n",
       "      <th>3</th>\n",
       "      <td>machine_learning</td>\n",
       "      <td>Machine learning is the subfield of computer s...</td>\n",
       "      <td>233488</td>\n",
       "      <td>Machine learning</td>\n",
       "    </tr>\n",
       "    <tr>\n",
       "      <th>4</th>\n",
       "      <td>machine_learning</td>\n",
       "      <td>The following outline is provided as an overvi...</td>\n",
       "      <td>53587467</td>\n",
       "      <td>Outline of machine learning</td>\n",
       "    </tr>\n",
       "  </tbody>\n",
       "</table>\n",
       "</div>"
      ],
      "text/plain": [
       "      category_name                                          page_text  \\\n",
       "0  machine_learning  Data exploration is an approach similar to ini...   \n",
       "1  machine_learning  These datasets are used for machine learning r...   \n",
       "2  machine_learning  These datasets are used for machine learning r...   \n",
       "3  machine_learning  Machine learning is the subfield of computer s...   \n",
       "4  machine_learning  The following outline is provided as an overvi...   \n",
       "\n",
       "     pageid                                           title  \n",
       "0  43385931                                Data exploration  \n",
       "1  49082762  List of datasets for machine learning research  \n",
       "2  49082762  List of datasets for machine learning research  \n",
       "3    233488                                Machine learning  \n",
       "4  53587467                     Outline of machine learning  "
      ]
     },
     "execution_count": 89,
     "metadata": {},
     "output_type": "execute_result"
    }
   ],
   "source": [
    "df2.head()"
   ]
  },
  {
   "cell_type": "markdown",
   "metadata": {},
   "source": [
    "### Perform SVD"
   ]
  },
  {
   "cell_type": "code",
   "execution_count": 90,
   "metadata": {
    "collapsed": true
   },
   "outputs": [],
   "source": [
    "n_components = 500\n",
    "algorithm = 'randomized'\n",
    "random_state = 42\n",
    "ngram_range=(1,2)\n",
    "min_df = 1\n",
    "max_df = .7"
   ]
  },
  {
   "cell_type": "code",
   "execution_count": 91,
   "metadata": {
    "collapsed": true
   },
   "outputs": [],
   "source": [
    "#make the pipeline\n",
    "svd_pipe = Pipeline([\n",
    "    ('tfidf_vec', TfidfVectorizer( ngram_range, max_df=max_df, min_df=min_df, stop_words = 'english')),\n",
    "    ('trun_svd', TruncatedSVD(n_components=n_components, algorithm = algorithm, random_state = random_state)),\n",
    "    ('normalizer', Normalizer(copy=False))\n",
    "])"
   ]
  },
  {
   "cell_type": "code",
   "execution_count": 92,
   "metadata": {
    "collapsed": true
   },
   "outputs": [],
   "source": [
    "#fit and transform model\n",
    "#after fit and transform the model is trained and ready to find related documents given search term.\n",
    "svd_matrix = svd_pipe.fit_transform(df['page_text'])"
   ]
  },
  {
   "cell_type": "code",
   "execution_count": 93,
   "metadata": {},
   "outputs": [
    {
     "data": {
      "text/plain": [
       "(1000, 500)"
      ]
     },
     "execution_count": 93,
     "metadata": {},
     "output_type": "execute_result"
    }
   ],
   "source": [
    "svd_matrix.shape"
   ]
  },
  {
   "cell_type": "code",
   "execution_count": 94,
   "metadata": {
    "collapsed": true
   },
   "outputs": [],
   "source": [
    "#make the search query into a query vector\n",
    "query = ['Data exploration is an approach machine learning is a science']\n",
    "query_vector = svd_pipe.transform(query)"
   ]
  },
  {
   "cell_type": "code",
   "execution_count": 95,
   "metadata": {},
   "outputs": [
    {
     "data": {
      "text/plain": [
       "(1, 500)"
      ]
     },
     "execution_count": 95,
     "metadata": {},
     "output_type": "execute_result"
    }
   ],
   "source": [
    "query_vector.shape"
   ]
  },
  {
   "cell_type": "code",
   "execution_count": 96,
   "metadata": {
    "collapsed": true
   },
   "outputs": [],
   "source": [
    "tmp = pd.DataFrame(np.dot(svd_matrix, query_vector.T))"
   ]
  },
  {
   "cell_type": "code",
   "execution_count": 97,
   "metadata": {
    "collapsed": true
   },
   "outputs": [],
   "source": [
    "df['cosine_distance'] = tmp[0]"
   ]
  },
  {
   "cell_type": "code",
   "execution_count": 107,
   "metadata": {},
   "outputs": [
    {
     "data": {
      "text/html": [
       "<div>\n",
       "<style>\n",
       "    .dataframe thead tr:only-child th {\n",
       "        text-align: right;\n",
       "    }\n",
       "\n",
       "    .dataframe thead th {\n",
       "        text-align: left;\n",
       "    }\n",
       "\n",
       "    .dataframe tbody tr th {\n",
       "        vertical-align: top;\n",
       "    }\n",
       "</style>\n",
       "<table border=\"1\" class=\"dataframe\">\n",
       "  <thead>\n",
       "    <tr style=\"text-align: right;\">\n",
       "      <th></th>\n",
       "      <th>category_name</th>\n",
       "      <th>page_text</th>\n",
       "      <th>pageid</th>\n",
       "      <th>title</th>\n",
       "      <th>cosine_distance</th>\n",
       "      <th>cos_distance</th>\n",
       "    </tr>\n",
       "  </thead>\n",
       "  <tbody>\n",
       "    <tr>\n",
       "      <th>0</th>\n",
       "      <td>machine_learning</td>\n",
       "      <td>Data exploration is an approach similar to ini...</td>\n",
       "      <td>43385931</td>\n",
       "      <td>Data exploration</td>\n",
       "      <td>0.718926</td>\n",
       "      <td>0.314657</td>\n",
       "    </tr>\n",
       "    <tr>\n",
       "      <th>3</th>\n",
       "      <td>machine_learning</td>\n",
       "      <td>Machine learning is the subfield of computer s...</td>\n",
       "      <td>233488</td>\n",
       "      <td>Machine learning</td>\n",
       "      <td>0.643819</td>\n",
       "      <td>0.366730</td>\n",
       "    </tr>\n",
       "    <tr>\n",
       "      <th>4</th>\n",
       "      <td>machine_learning</td>\n",
       "      <td>The following outline is provided as an overvi...</td>\n",
       "      <td>53587467</td>\n",
       "      <td>Outline of machine learning</td>\n",
       "      <td>0.580284</td>\n",
       "      <td>0.408299</td>\n",
       "    </tr>\n",
       "    <tr>\n",
       "      <th>185</th>\n",
       "      <td>machine_learning</td>\n",
       "      <td>Meta learning is a subfield of Machine learnin...</td>\n",
       "      <td>4615464</td>\n",
       "      <td>Meta learning (computer science)</td>\n",
       "      <td>0.570281</td>\n",
       "      <td>0.479387</td>\n",
       "    </tr>\n",
       "    <tr>\n",
       "      <th>73</th>\n",
       "      <td>machine_learning</td>\n",
       "      <td>Data pre processing is an important step in th...</td>\n",
       "      <td>12386904</td>\n",
       "      <td>Data pre-processing</td>\n",
       "      <td>0.550700</td>\n",
       "      <td>0.610937</td>\n",
       "    </tr>\n",
       "  </tbody>\n",
       "</table>\n",
       "</div>"
      ],
      "text/plain": [
       "        category_name                                          page_text  \\\n",
       "0    machine_learning  Data exploration is an approach similar to ini...   \n",
       "3    machine_learning  Machine learning is the subfield of computer s...   \n",
       "4    machine_learning  The following outline is provided as an overvi...   \n",
       "185  machine_learning  Meta learning is a subfield of Machine learnin...   \n",
       "73   machine_learning  Data pre processing is an important step in th...   \n",
       "\n",
       "       pageid                             title  cosine_distance  cos_distance  \n",
       "0    43385931                  Data exploration         0.718926      0.314657  \n",
       "3      233488                  Machine learning         0.643819      0.366730  \n",
       "4    53587467       Outline of machine learning         0.580284      0.408299  \n",
       "185   4615464  Meta learning (computer science)         0.570281      0.479387  \n",
       "73   12386904               Data pre-processing         0.550700      0.610937  "
      ]
     },
     "execution_count": 107,
     "metadata": {},
     "output_type": "execute_result"
    }
   ],
   "source": [
    "df.sort_values(['cosine_distance'], ascending = False).head(5)"
   ]
  },
  {
   "cell_type": "code",
   "execution_count": 109,
   "metadata": {},
   "outputs": [
    {
     "data": {
      "text/html": [
       "<div>\n",
       "<style>\n",
       "    .dataframe thead tr:only-child th {\n",
       "        text-align: right;\n",
       "    }\n",
       "\n",
       "    .dataframe thead th {\n",
       "        text-align: left;\n",
       "    }\n",
       "\n",
       "    .dataframe tbody tr th {\n",
       "        vertical-align: top;\n",
       "    }\n",
       "</style>\n",
       "<table border=\"1\" class=\"dataframe\">\n",
       "  <thead>\n",
       "    <tr style=\"text-align: right;\">\n",
       "      <th></th>\n",
       "      <th>pageid</th>\n",
       "      <th>title</th>\n",
       "    </tr>\n",
       "  </thead>\n",
       "  <tbody>\n",
       "    <tr>\n",
       "      <th>0</th>\n",
       "      <td>43385931</td>\n",
       "      <td>Data exploration</td>\n",
       "    </tr>\n",
       "    <tr>\n",
       "      <th>3</th>\n",
       "      <td>233488</td>\n",
       "      <td>Machine learning</td>\n",
       "    </tr>\n",
       "    <tr>\n",
       "      <th>4</th>\n",
       "      <td>53587467</td>\n",
       "      <td>Outline of machine learning</td>\n",
       "    </tr>\n",
       "    <tr>\n",
       "      <th>185</th>\n",
       "      <td>4615464</td>\n",
       "      <td>Meta learning (computer science)</td>\n",
       "    </tr>\n",
       "    <tr>\n",
       "      <th>73</th>\n",
       "      <td>12386904</td>\n",
       "      <td>Data pre-processing</td>\n",
       "    </tr>\n",
       "  </tbody>\n",
       "</table>\n",
       "</div>"
      ],
      "text/plain": [
       "       pageid                             title\n",
       "0    43385931                  Data exploration\n",
       "3      233488                  Machine learning\n",
       "4    53587467       Outline of machine learning\n",
       "185   4615464  Meta learning (computer science)\n",
       "73   12386904               Data pre-processing"
      ]
     },
     "execution_count": 109,
     "metadata": {},
     "output_type": "execute_result"
    }
   ],
   "source": [
    "return_df = pd.DataFrame(df.sort_values(['cosine_distance'], ascending = False).head(5))\n",
    "return_df.drop(['category_name','page_text', 'cosine_distance'], axis = 1, inplace = True)\n",
    "return_df"
   ]
  },
  {
   "cell_type": "code",
   "execution_count": 64,
   "metadata": {
    "collapsed": true
   },
   "outputs": [],
   "source": [
    "#after transformation above, we just need some kind of similarity measure.  \n",
    "#we will try cosine distance\n",
    "distance_matrix = pairwise_distances(svd_matrix, \n",
    "                                     query_vector, \n",
    "                                     metric='cosine', \n",
    "                                     n_jobs=-1)"
   ]
  },
  {
   "cell_type": "code",
   "execution_count": 65,
   "metadata": {},
   "outputs": [
    {
     "data": {
      "text/plain": [
       "(1000, 1)"
      ]
     },
     "execution_count": 65,
     "metadata": {},
     "output_type": "execute_result"
    }
   ],
   "source": [
    "distance_matrix.shape"
   ]
  },
  {
   "cell_type": "code",
   "execution_count": 104,
   "metadata": {},
   "outputs": [],
   "source": [
    "df['cos_distance'] = distance_matrix"
   ]
  },
  {
   "cell_type": "code",
   "execution_count": 67,
   "metadata": {},
   "outputs": [
    {
     "data": {
      "text/html": [
       "<div>\n",
       "<style>\n",
       "    .dataframe thead tr:only-child th {\n",
       "        text-align: right;\n",
       "    }\n",
       "\n",
       "    .dataframe thead th {\n",
       "        text-align: left;\n",
       "    }\n",
       "\n",
       "    .dataframe tbody tr th {\n",
       "        vertical-align: top;\n",
       "    }\n",
       "</style>\n",
       "<table border=\"1\" class=\"dataframe\">\n",
       "  <thead>\n",
       "    <tr style=\"text-align: right;\">\n",
       "      <th></th>\n",
       "      <th>category_name</th>\n",
       "      <th>page_text</th>\n",
       "      <th>pageid</th>\n",
       "      <th>cosine_distance</th>\n",
       "      <th>cos_distance</th>\n",
       "    </tr>\n",
       "  </thead>\n",
       "  <tbody>\n",
       "    <tr>\n",
       "      <th>0</th>\n",
       "      <td>machine_learning</td>\n",
       "      <td>Data exploration is an approach similar to ini...</td>\n",
       "      <td>43385931</td>\n",
       "      <td>0.685343</td>\n",
       "      <td>0.314657</td>\n",
       "    </tr>\n",
       "    <tr>\n",
       "      <th>3</th>\n",
       "      <td>machine_learning</td>\n",
       "      <td>Machine learning is the subfield of computer s...</td>\n",
       "      <td>233488</td>\n",
       "      <td>0.633270</td>\n",
       "      <td>0.366730</td>\n",
       "    </tr>\n",
       "    <tr>\n",
       "      <th>4</th>\n",
       "      <td>machine_learning</td>\n",
       "      <td>The following outline is provided as an overvi...</td>\n",
       "      <td>53587467</td>\n",
       "      <td>0.591701</td>\n",
       "      <td>0.408299</td>\n",
       "    </tr>\n",
       "    <tr>\n",
       "      <th>185</th>\n",
       "      <td>machine_learning</td>\n",
       "      <td>Meta learning is a subfield of Machine learnin...</td>\n",
       "      <td>4615464</td>\n",
       "      <td>0.520613</td>\n",
       "      <td>0.479387</td>\n",
       "    </tr>\n",
       "    <tr>\n",
       "      <th>8</th>\n",
       "      <td>machine_learning</td>\n",
       "      <td>Active learning is a special case of semi supe...</td>\n",
       "      <td>28801798</td>\n",
       "      <td>0.511588</td>\n",
       "      <td>0.488412</td>\n",
       "    </tr>\n",
       "    <tr>\n",
       "      <th>550</th>\n",
       "      <td>business_software</td>\n",
       "      <td>Data Preparation is the act of preparing or pr...</td>\n",
       "      <td>54133478</td>\n",
       "      <td>0.467157</td>\n",
       "      <td>0.532843</td>\n",
       "    </tr>\n",
       "    <tr>\n",
       "      <th>76</th>\n",
       "      <td>machine_learning</td>\n",
       "      <td>Deep Feature Synthesis is an algorithm develop...</td>\n",
       "      <td>48290454</td>\n",
       "      <td>0.420777</td>\n",
       "      <td>0.579223</td>\n",
       "    </tr>\n",
       "    <tr>\n",
       "      <th>175</th>\n",
       "      <td>machine_learning</td>\n",
       "      <td>Machine Learning a subfield of Computer Scienc...</td>\n",
       "      <td>53970843</td>\n",
       "      <td>0.392151</td>\n",
       "      <td>0.607849</td>\n",
       "    </tr>\n",
       "    <tr>\n",
       "      <th>211</th>\n",
       "      <td>machine_learning</td>\n",
       "      <td>In machine learning systems which employ offli...</td>\n",
       "      <td>10748030</td>\n",
       "      <td>0.389395</td>\n",
       "      <td>0.610605</td>\n",
       "    </tr>\n",
       "    <tr>\n",
       "      <th>73</th>\n",
       "      <td>machine_learning</td>\n",
       "      <td>Data pre processing is an important step in th...</td>\n",
       "      <td>12386904</td>\n",
       "      <td>0.389063</td>\n",
       "      <td>0.610937</td>\n",
       "    </tr>\n",
       "  </tbody>\n",
       "</table>\n",
       "</div>"
      ],
      "text/plain": [
       "         category_name                                          page_text  \\\n",
       "0     machine_learning  Data exploration is an approach similar to ini...   \n",
       "3     machine_learning  Machine learning is the subfield of computer s...   \n",
       "4     machine_learning  The following outline is provided as an overvi...   \n",
       "185   machine_learning  Meta learning is a subfield of Machine learnin...   \n",
       "8     machine_learning  Active learning is a special case of semi supe...   \n",
       "550  business_software  Data Preparation is the act of preparing or pr...   \n",
       "76    machine_learning  Deep Feature Synthesis is an algorithm develop...   \n",
       "175   machine_learning  Machine Learning a subfield of Computer Scienc...   \n",
       "211   machine_learning  In machine learning systems which employ offli...   \n",
       "73    machine_learning  Data pre processing is an important step in th...   \n",
       "\n",
       "       pageid  cosine_distance  cos_distance  \n",
       "0    43385931         0.685343      0.314657  \n",
       "3      233488         0.633270      0.366730  \n",
       "4    53587467         0.591701      0.408299  \n",
       "185   4615464         0.520613      0.479387  \n",
       "8    28801798         0.511588      0.488412  \n",
       "550  54133478         0.467157      0.532843  \n",
       "76   48290454         0.420777      0.579223  \n",
       "175  53970843         0.392151      0.607849  \n",
       "211  10748030         0.389395      0.610605  \n",
       "73   12386904         0.389063      0.610937  "
      ]
     },
     "execution_count": 67,
     "metadata": {},
     "output_type": "execute_result"
    }
   ],
   "source": [
    "df.sort_values(['cos_distance'],ascending= True).head(10)"
   ]
  },
  {
   "cell_type": "code",
   "execution_count": 105,
   "metadata": {},
   "outputs": [],
   "source": [
    "return_df = pd.DataFrame(df.sort_values(['cosine_distance'],ascending= False).head(5))"
   ]
  },
  {
   "cell_type": "code",
   "execution_count": 106,
   "metadata": {},
   "outputs": [
    {
     "ename": "ValueError",
     "evalue": "labels ['category_name, page_text' 'cosine_distance' 'cos_distance'] not contained in axis",
     "output_type": "error",
     "traceback": [
      "\u001b[0;31m---------------------------------------------------------------------------\u001b[0m",
      "\u001b[0;31mValueError\u001b[0m                                Traceback (most recent call last)",
      "\u001b[0;32m<ipython-input-106-1c7b91d76c33>\u001b[0m in \u001b[0;36m<module>\u001b[0;34m()\u001b[0m\n\u001b[0;32m----> 1\u001b[0;31m \u001b[0mreturn_df\u001b[0m\u001b[0;34m.\u001b[0m\u001b[0mdrop\u001b[0m\u001b[0;34m(\u001b[0m\u001b[0;34m[\u001b[0m\u001b[0;34m'category_name, page_text'\u001b[0m\u001b[0;34m,\u001b[0m\u001b[0;34m'cosine_distance'\u001b[0m\u001b[0;34m,\u001b[0m \u001b[0;34m'cos_distance'\u001b[0m\u001b[0;34m]\u001b[0m\u001b[0;34m)\u001b[0m\u001b[0;34m\u001b[0m\u001b[0m\n\u001b[0m",
      "\u001b[0;32m/opt/conda/lib/python3.6/site-packages/pandas/core/generic.py\u001b[0m in \u001b[0;36mdrop\u001b[0;34m(self, labels, axis, level, inplace, errors)\u001b[0m\n\u001b[1;32m   2159\u001b[0m                 \u001b[0mnew_axis\u001b[0m \u001b[0;34m=\u001b[0m \u001b[0maxis\u001b[0m\u001b[0;34m.\u001b[0m\u001b[0mdrop\u001b[0m\u001b[0;34m(\u001b[0m\u001b[0mlabels\u001b[0m\u001b[0;34m,\u001b[0m \u001b[0mlevel\u001b[0m\u001b[0;34m=\u001b[0m\u001b[0mlevel\u001b[0m\u001b[0;34m,\u001b[0m \u001b[0merrors\u001b[0m\u001b[0;34m=\u001b[0m\u001b[0merrors\u001b[0m\u001b[0;34m)\u001b[0m\u001b[0;34m\u001b[0m\u001b[0m\n\u001b[1;32m   2160\u001b[0m             \u001b[0;32melse\u001b[0m\u001b[0;34m:\u001b[0m\u001b[0;34m\u001b[0m\u001b[0m\n\u001b[0;32m-> 2161\u001b[0;31m                 \u001b[0mnew_axis\u001b[0m \u001b[0;34m=\u001b[0m \u001b[0maxis\u001b[0m\u001b[0;34m.\u001b[0m\u001b[0mdrop\u001b[0m\u001b[0;34m(\u001b[0m\u001b[0mlabels\u001b[0m\u001b[0;34m,\u001b[0m \u001b[0merrors\u001b[0m\u001b[0;34m=\u001b[0m\u001b[0merrors\u001b[0m\u001b[0;34m)\u001b[0m\u001b[0;34m\u001b[0m\u001b[0m\n\u001b[0m\u001b[1;32m   2162\u001b[0m             \u001b[0mdropped\u001b[0m \u001b[0;34m=\u001b[0m \u001b[0mself\u001b[0m\u001b[0;34m.\u001b[0m\u001b[0mreindex\u001b[0m\u001b[0;34m(\u001b[0m\u001b[0;34m**\u001b[0m\u001b[0;34m{\u001b[0m\u001b[0maxis_name\u001b[0m\u001b[0;34m:\u001b[0m \u001b[0mnew_axis\u001b[0m\u001b[0;34m}\u001b[0m\u001b[0;34m)\u001b[0m\u001b[0;34m\u001b[0m\u001b[0m\n\u001b[1;32m   2163\u001b[0m             \u001b[0;32mtry\u001b[0m\u001b[0;34m:\u001b[0m\u001b[0;34m\u001b[0m\u001b[0m\n",
      "\u001b[0;32m/opt/conda/lib/python3.6/site-packages/pandas/core/indexes/base.py\u001b[0m in \u001b[0;36mdrop\u001b[0;34m(self, labels, errors)\u001b[0m\n\u001b[1;32m   3622\u001b[0m             \u001b[0;32mif\u001b[0m \u001b[0merrors\u001b[0m \u001b[0;34m!=\u001b[0m \u001b[0;34m'ignore'\u001b[0m\u001b[0;34m:\u001b[0m\u001b[0;34m\u001b[0m\u001b[0m\n\u001b[1;32m   3623\u001b[0m                 raise ValueError('labels %s not contained in axis' %\n\u001b[0;32m-> 3624\u001b[0;31m                                  labels[mask])\n\u001b[0m\u001b[1;32m   3625\u001b[0m             \u001b[0mindexer\u001b[0m \u001b[0;34m=\u001b[0m \u001b[0mindexer\u001b[0m\u001b[0;34m[\u001b[0m\u001b[0;34m~\u001b[0m\u001b[0mmask\u001b[0m\u001b[0;34m]\u001b[0m\u001b[0;34m\u001b[0m\u001b[0m\n\u001b[1;32m   3626\u001b[0m         \u001b[0;32mreturn\u001b[0m \u001b[0mself\u001b[0m\u001b[0;34m.\u001b[0m\u001b[0mdelete\u001b[0m\u001b[0;34m(\u001b[0m\u001b[0mindexer\u001b[0m\u001b[0;34m)\u001b[0m\u001b[0;34m\u001b[0m\u001b[0m\n",
      "\u001b[0;31mValueError\u001b[0m: labels ['category_name, page_text' 'cosine_distance' 'cos_distance'] not contained in axis"
     ]
    }
   ],
   "source": [
    "return_df.drop(['category_name, page_text','cosine_distance', 'cos_distance'])"
   ]
  },
  {
   "cell_type": "code",
   "execution_count": null,
   "metadata": {
    "collapsed": true
   },
   "outputs": [],
   "source": []
  },
  {
   "cell_type": "code",
   "execution_count": null,
   "metadata": {
    "collapsed": true
   },
   "outputs": [],
   "source": []
  },
  {
   "cell_type": "markdown",
   "metadata": {},
   "source": [
    "## Code Below is for NO Pipeline for my own learning/understanding"
   ]
  },
  {
   "cell_type": "code",
   "execution_count": 68,
   "metadata": {
    "collapsed": true
   },
   "outputs": [],
   "source": [
    "#df2['page_text'] is the name of dataframe where the data from postgres is stored\n"
   ]
  },
  {
   "cell_type": "code",
   "execution_count": 69,
   "metadata": {
    "collapsed": true
   },
   "outputs": [],
   "source": [
    "#Tokenize and vectorize using TfidfVectorizer\n",
    "#ngram_range, max_df, min_df defined above in the pipeline implementation\n",
    "\n",
    "tfidf_vec = TfidfVectorizer(ngram_range=ngram_range, max_df=max_df, min_df=min_df, stop_words='english')"
   ]
  },
  {
   "cell_type": "code",
   "execution_count": 70,
   "metadata": {
    "collapsed": true
   },
   "outputs": [],
   "source": [
    "#SVD \n",
    "#n_components, algorithm, random_state defined above in pipeline implementation\n",
    "svd = TruncatedSVD(n_components = n_components, algorithm = algorithm ,random_state = random_state)"
   ]
  },
  {
   "cell_type": "code",
   "execution_count": 71,
   "metadata": {
    "collapsed": true
   },
   "outputs": [],
   "source": [
    "#normalize result\n",
    "normalize = Normalizer(copy = False)"
   ]
  },
  {
   "cell_type": "code",
   "execution_count": 72,
   "metadata": {
    "collapsed": true
   },
   "outputs": [],
   "source": [
    "#now we try to plug in the data\n",
    "document_term_matrix_sparse = tfidf_vec.fit_transform(df2['page_text'])"
   ]
  },
  {
   "cell_type": "code",
   "execution_count": 73,
   "metadata": {
    "collapsed": true
   },
   "outputs": [],
   "source": [
    "#we can create a dense dataframe(not needed) to check things out\n",
    "document_term_matrix_dense = pd.DataFrame(document_term_matrix_sparse.toarray(),\n",
    "                                          index = df2.index,\n",
    "                                          columns=tfidf_vec.get_feature_names())"
   ]
  },
  {
   "cell_type": "code",
   "execution_count": 99,
   "metadata": {},
   "outputs": [
    {
     "data": {
      "text/plain": [
       "(1000, 241297)"
      ]
     },
     "execution_count": 99,
     "metadata": {},
     "output_type": "execute_result"
    }
   ],
   "source": [
    "document_term_matrix_dense.shape"
   ]
  },
  {
   "cell_type": "code",
   "execution_count": 74,
   "metadata": {
    "scrolled": true
   },
   "outputs": [
    {
     "data": {
      "text/html": [
       "<div>\n",
       "<style>\n",
       "    .dataframe thead tr:only-child th {\n",
       "        text-align: right;\n",
       "    }\n",
       "\n",
       "    .dataframe thead th {\n",
       "        text-align: left;\n",
       "    }\n",
       "\n",
       "    .dataframe tbody tr th {\n",
       "        vertical-align: top;\n",
       "    }\n",
       "</style>\n",
       "<table border=\"1\" class=\"dataframe\">\n",
       "  <thead>\n",
       "    <tr style=\"text-align: right;\">\n",
       "      <th></th>\n",
       "      <th>page_text</th>\n",
       "      <th>aaa</th>\n",
       "      <th>aaa cvp</th>\n",
       "      <th>aaai</th>\n",
       "      <th>aaai classic</th>\n",
       "      <th>aaai conferences</th>\n",
       "      <th>aaai proceedings</th>\n",
       "      <th>aaai rosenfeld</th>\n",
       "      <th>aaajxb</th>\n",
       "      <th>aaajxb htm</th>\n",
       "      <th>...</th>\n",
       "      <th>zurich reception</th>\n",
       "      <th>zusammenarbeit</th>\n",
       "      <th>zusammenarbeit german</th>\n",
       "      <th>zwanziger</th>\n",
       "      <th>zwanziger assessment</th>\n",
       "      <th>zwanziger large</th>\n",
       "      <th>zwischen</th>\n",
       "      <th>zwischen moneybee</th>\n",
       "      <th>zx</th>\n",
       "      <th>zx learning</th>\n",
       "    </tr>\n",
       "  </thead>\n",
       "  <tbody>\n",
       "    <tr>\n",
       "      <th>464</th>\n",
       "      <td>Learning rule or Learning process is a method ...</td>\n",
       "      <td>0.0</td>\n",
       "      <td>0.0</td>\n",
       "      <td>0.0</td>\n",
       "      <td>0.0</td>\n",
       "      <td>0.0</td>\n",
       "      <td>0.0</td>\n",
       "      <td>0.0</td>\n",
       "      <td>0.0</td>\n",
       "      <td>0.0</td>\n",
       "      <td>...</td>\n",
       "      <td>0.0</td>\n",
       "      <td>0.0</td>\n",
       "      <td>0.0</td>\n",
       "      <td>0.0</td>\n",
       "      <td>0.0</td>\n",
       "      <td>0.0</td>\n",
       "      <td>0.0</td>\n",
       "      <td>0.0</td>\n",
       "      <td>0.0</td>\n",
       "      <td>0.0</td>\n",
       "    </tr>\n",
       "  </tbody>\n",
       "</table>\n",
       "<p>1 rows × 241298 columns</p>\n",
       "</div>"
      ],
      "text/plain": [
       "                                             page_text  aaa  aaa cvp  aaai  \\\n",
       "464  Learning rule or Learning process is a method ...  0.0      0.0   0.0   \n",
       "\n",
       "     aaai classic  aaai conferences  aaai proceedings  aaai rosenfeld  aaajxb  \\\n",
       "464           0.0               0.0               0.0             0.0     0.0   \n",
       "\n",
       "     aaajxb htm     ...       zurich reception  zusammenarbeit  \\\n",
       "464         0.0     ...                    0.0             0.0   \n",
       "\n",
       "     zusammenarbeit german  zwanziger  zwanziger assessment  zwanziger large  \\\n",
       "464                    0.0        0.0                   0.0              0.0   \n",
       "\n",
       "     zwischen  zwischen moneybee   zx  zx learning  \n",
       "464       0.0                0.0  0.0          0.0  \n",
       "\n",
       "[1 rows x 241298 columns]"
      ]
     },
     "execution_count": 74,
     "metadata": {},
     "output_type": "execute_result"
    }
   ],
   "source": [
    "#concatenate the dense document term matrix with df['page_text'] to see \n",
    "#the document term matrix for each page_text\n",
    "\n",
    "pd.concat([df2['page_text'],document_term_matrix_dense],axis = 1).sample(1)"
   ]
  },
  {
   "cell_type": "code",
   "execution_count": 75,
   "metadata": {
    "collapsed": true
   },
   "outputs": [],
   "source": [
    "#now we can plug the SPARSE df from TfidfVectorizer into TruncatedSVD to fit_transform\n",
    "svd_model= svd.fit_transform(document_term_matrix_sparse)"
   ]
  },
  {
   "cell_type": "code",
   "execution_count": 76,
   "metadata": {
    "collapsed": true
   },
   "outputs": [],
   "source": [
    "#now we nomalize\n",
    "svd_normalized = normalize.fit_transform(svd_model)\n"
   ]
  },
  {
   "cell_type": "code",
   "execution_count": 77,
   "metadata": {
    "collapsed": true
   },
   "outputs": [],
   "source": [
    "#FIRST: We need to tokenize the query list using the tokenizer fit_transform from above. \n",
    "#Make sure do only 'TRANSFORM'\n",
    "#SECOND: We need to perform SVD on the query list using the svd_model fit_transform from above.  \n",
    "#Make sure do only \"TRANSFORM\"\n",
    "query1 = ['Data exploration is an approach machine learning is a science']\n",
    "query1_vector = tfidf_vec.transform(query1)\n",
    "query1_matrix = svd.transform(query1_vector)"
   ]
  },
  {
   "cell_type": "code",
   "execution_count": 101,
   "metadata": {},
   "outputs": [
    {
     "data": {
      "text/plain": [
       "(1, 500)"
      ]
     },
     "execution_count": 101,
     "metadata": {},
     "output_type": "execute_result"
    }
   ],
   "source": [
    "query1_matrix.shape"
   ]
  },
  {
   "cell_type": "code",
   "execution_count": 78,
   "metadata": {},
   "outputs": [],
   "source": [
    "tmp2 = pd.DataFrame(np.dot(svd_normalized,query1_matrix.T))"
   ]
  },
  {
   "cell_type": "code",
   "execution_count": 79,
   "metadata": {},
   "outputs": [],
   "source": [
    "df2['cosine_distance'] = tmp2[0]"
   ]
  },
  {
   "cell_type": "code",
   "execution_count": 80,
   "metadata": {},
   "outputs": [
    {
     "data": {
      "text/html": [
       "<div>\n",
       "<style>\n",
       "    .dataframe thead tr:only-child th {\n",
       "        text-align: right;\n",
       "    }\n",
       "\n",
       "    .dataframe thead th {\n",
       "        text-align: left;\n",
       "    }\n",
       "\n",
       "    .dataframe tbody tr th {\n",
       "        vertical-align: top;\n",
       "    }\n",
       "</style>\n",
       "<table border=\"1\" class=\"dataframe\">\n",
       "  <thead>\n",
       "    <tr style=\"text-align: right;\">\n",
       "      <th></th>\n",
       "      <th>category_name</th>\n",
       "      <th>page_text</th>\n",
       "      <th>pageid</th>\n",
       "      <th>cosine_distance</th>\n",
       "    </tr>\n",
       "  </thead>\n",
       "  <tbody>\n",
       "    <tr>\n",
       "      <th>0</th>\n",
       "      <td>machine_learning</td>\n",
       "      <td>Data exploration is an approach similar to ini...</td>\n",
       "      <td>43385931</td>\n",
       "      <td>0.228816</td>\n",
       "    </tr>\n",
       "    <tr>\n",
       "      <th>3</th>\n",
       "      <td>machine_learning</td>\n",
       "      <td>Machine learning is the subfield of computer s...</td>\n",
       "      <td>233488</td>\n",
       "      <td>0.185774</td>\n",
       "    </tr>\n",
       "    <tr>\n",
       "      <th>4</th>\n",
       "      <td>machine_learning</td>\n",
       "      <td>The following outline is provided as an overvi...</td>\n",
       "      <td>53587467</td>\n",
       "      <td>0.169408</td>\n",
       "    </tr>\n",
       "    <tr>\n",
       "      <th>550</th>\n",
       "      <td>business_software</td>\n",
       "      <td>Data Preparation is the act of preparing or pr...</td>\n",
       "      <td>54133478</td>\n",
       "      <td>0.139975</td>\n",
       "    </tr>\n",
       "    <tr>\n",
       "      <th>175</th>\n",
       "      <td>machine_learning</td>\n",
       "      <td>Machine Learning a subfield of Computer Scienc...</td>\n",
       "      <td>53970843</td>\n",
       "      <td>0.124173</td>\n",
       "    </tr>\n",
       "    <tr>\n",
       "      <th>185</th>\n",
       "      <td>machine_learning</td>\n",
       "      <td>Meta learning is a subfield of Machine learnin...</td>\n",
       "      <td>4615464</td>\n",
       "      <td>0.117005</td>\n",
       "    </tr>\n",
       "    <tr>\n",
       "      <th>9</th>\n",
       "      <td>machine_learning</td>\n",
       "      <td>Adversarial machine learning is a research fie...</td>\n",
       "      <td>45049676</td>\n",
       "      <td>0.107293</td>\n",
       "    </tr>\n",
       "    <tr>\n",
       "      <th>8</th>\n",
       "      <td>machine_learning</td>\n",
       "      <td>Active learning is a special case of semi supe...</td>\n",
       "      <td>28801798</td>\n",
       "      <td>0.102264</td>\n",
       "    </tr>\n",
       "    <tr>\n",
       "      <th>118</th>\n",
       "      <td>machine_learning</td>\n",
       "      <td>In machine learning feature learning or repres...</td>\n",
       "      <td>38870173</td>\n",
       "      <td>0.094404</td>\n",
       "    </tr>\n",
       "    <tr>\n",
       "      <th>134</th>\n",
       "      <td>machine_learning</td>\n",
       "      <td>Supervised learning is the machine learning ta...</td>\n",
       "      <td>20926</td>\n",
       "      <td>0.081478</td>\n",
       "    </tr>\n",
       "  </tbody>\n",
       "</table>\n",
       "</div>"
      ],
      "text/plain": [
       "         category_name                                          page_text  \\\n",
       "0     machine_learning  Data exploration is an approach similar to ini...   \n",
       "3     machine_learning  Machine learning is the subfield of computer s...   \n",
       "4     machine_learning  The following outline is provided as an overvi...   \n",
       "550  business_software  Data Preparation is the act of preparing or pr...   \n",
       "175   machine_learning  Machine Learning a subfield of Computer Scienc...   \n",
       "185   machine_learning  Meta learning is a subfield of Machine learnin...   \n",
       "9     machine_learning  Adversarial machine learning is a research fie...   \n",
       "8     machine_learning  Active learning is a special case of semi supe...   \n",
       "118   machine_learning  In machine learning feature learning or repres...   \n",
       "134   machine_learning  Supervised learning is the machine learning ta...   \n",
       "\n",
       "       pageid  cosine_distance  \n",
       "0    43385931         0.228816  \n",
       "3      233488         0.185774  \n",
       "4    53587467         0.169408  \n",
       "550  54133478         0.139975  \n",
       "175  53970843         0.124173  \n",
       "185   4615464         0.117005  \n",
       "9    45049676         0.107293  \n",
       "8    28801798         0.102264  \n",
       "118  38870173         0.094404  \n",
       "134     20926         0.081478  "
      ]
     },
     "execution_count": 80,
     "metadata": {},
     "output_type": "execute_result"
    }
   ],
   "source": [
    "df2.sort_values(['cosine_distance'], ascending = False).head(10)"
   ]
  },
  {
   "cell_type": "code",
   "execution_count": 81,
   "metadata": {
    "collapsed": true
   },
   "outputs": [],
   "source": [
    "#we normalize the query_matrix just like we did before\n",
    "query1_normalized = normalize.transform(query1_matrix)"
   ]
  },
  {
   "cell_type": "code",
   "execution_count": 82,
   "metadata": {},
   "outputs": [],
   "source": [
    "#after we normalize everything, now we can find similar terms using cosine distance\n",
    "distance_matrix2 = pairwise_distances(svd_normalized,\n",
    "                                      query1_normalized,\n",
    "                                     metric='cosine', \n",
    "                                     n_jobs=-1)"
   ]
  },
  {
   "cell_type": "code",
   "execution_count": 45,
   "metadata": {},
   "outputs": [
    {
     "data": {
      "text/plain": [
       "(1000, 1)"
      ]
     },
     "execution_count": 45,
     "metadata": {},
     "output_type": "execute_result"
    }
   ],
   "source": [
    "distance_matrix2.shape"
   ]
  },
  {
   "cell_type": "code",
   "execution_count": 84,
   "metadata": {},
   "outputs": [
    {
     "data": {
      "text/html": [
       "<div>\n",
       "<style>\n",
       "    .dataframe thead tr:only-child th {\n",
       "        text-align: right;\n",
       "    }\n",
       "\n",
       "    .dataframe thead th {\n",
       "        text-align: left;\n",
       "    }\n",
       "\n",
       "    .dataframe tbody tr th {\n",
       "        vertical-align: top;\n",
       "    }\n",
       "</style>\n",
       "<table border=\"1\" class=\"dataframe\">\n",
       "  <thead>\n",
       "    <tr style=\"text-align: right;\">\n",
       "      <th></th>\n",
       "      <th>category_name</th>\n",
       "      <th>page_text</th>\n",
       "      <th>pageid</th>\n",
       "      <th>cosine_distance</th>\n",
       "      <th>cos_distance</th>\n",
       "    </tr>\n",
       "  </thead>\n",
       "  <tbody>\n",
       "    <tr>\n",
       "      <th>0</th>\n",
       "      <td>machine_learning</td>\n",
       "      <td>Data exploration is an approach similar to ini...</td>\n",
       "      <td>43385931</td>\n",
       "      <td>0.228816</td>\n",
       "      <td>0.208849</td>\n",
       "    </tr>\n",
       "    <tr>\n",
       "      <th>3</th>\n",
       "      <td>machine_learning</td>\n",
       "      <td>Machine learning is the subfield of computer s...</td>\n",
       "      <td>233488</td>\n",
       "      <td>0.185774</td>\n",
       "      <td>0.357672</td>\n",
       "    </tr>\n",
       "    <tr>\n",
       "      <th>4</th>\n",
       "      <td>machine_learning</td>\n",
       "      <td>The following outline is provided as an overvi...</td>\n",
       "      <td>53587467</td>\n",
       "      <td>0.169408</td>\n",
       "      <td>0.414257</td>\n",
       "    </tr>\n",
       "    <tr>\n",
       "      <th>550</th>\n",
       "      <td>business_software</td>\n",
       "      <td>Data Preparation is the act of preparing or pr...</td>\n",
       "      <td>54133478</td>\n",
       "      <td>0.139975</td>\n",
       "      <td>0.516025</td>\n",
       "    </tr>\n",
       "    <tr>\n",
       "      <th>175</th>\n",
       "      <td>machine_learning</td>\n",
       "      <td>Machine Learning a subfield of Computer Scienc...</td>\n",
       "      <td>53970843</td>\n",
       "      <td>0.124173</td>\n",
       "      <td>0.570663</td>\n",
       "    </tr>\n",
       "    <tr>\n",
       "      <th>185</th>\n",
       "      <td>machine_learning</td>\n",
       "      <td>Meta learning is a subfield of Machine learnin...</td>\n",
       "      <td>4615464</td>\n",
       "      <td>0.117005</td>\n",
       "      <td>0.595447</td>\n",
       "    </tr>\n",
       "    <tr>\n",
       "      <th>9</th>\n",
       "      <td>machine_learning</td>\n",
       "      <td>Adversarial machine learning is a research fie...</td>\n",
       "      <td>45049676</td>\n",
       "      <td>0.107293</td>\n",
       "      <td>0.629027</td>\n",
       "    </tr>\n",
       "    <tr>\n",
       "      <th>8</th>\n",
       "      <td>machine_learning</td>\n",
       "      <td>Active learning is a special case of semi supe...</td>\n",
       "      <td>28801798</td>\n",
       "      <td>0.102264</td>\n",
       "      <td>0.646415</td>\n",
       "    </tr>\n",
       "    <tr>\n",
       "      <th>118</th>\n",
       "      <td>machine_learning</td>\n",
       "      <td>In machine learning feature learning or repres...</td>\n",
       "      <td>38870173</td>\n",
       "      <td>0.094404</td>\n",
       "      <td>0.673590</td>\n",
       "    </tr>\n",
       "    <tr>\n",
       "      <th>134</th>\n",
       "      <td>machine_learning</td>\n",
       "      <td>Supervised learning is the machine learning ta...</td>\n",
       "      <td>20926</td>\n",
       "      <td>0.081478</td>\n",
       "      <td>0.718283</td>\n",
       "    </tr>\n",
       "  </tbody>\n",
       "</table>\n",
       "</div>"
      ],
      "text/plain": [
       "         category_name                                          page_text  \\\n",
       "0     machine_learning  Data exploration is an approach similar to ini...   \n",
       "3     machine_learning  Machine learning is the subfield of computer s...   \n",
       "4     machine_learning  The following outline is provided as an overvi...   \n",
       "550  business_software  Data Preparation is the act of preparing or pr...   \n",
       "175   machine_learning  Machine Learning a subfield of Computer Scienc...   \n",
       "185   machine_learning  Meta learning is a subfield of Machine learnin...   \n",
       "9     machine_learning  Adversarial machine learning is a research fie...   \n",
       "8     machine_learning  Active learning is a special case of semi supe...   \n",
       "118   machine_learning  In machine learning feature learning or repres...   \n",
       "134   machine_learning  Supervised learning is the machine learning ta...   \n",
       "\n",
       "       pageid  cosine_distance  cos_distance  \n",
       "0    43385931         0.228816      0.208849  \n",
       "3      233488         0.185774      0.357672  \n",
       "4    53587467         0.169408      0.414257  \n",
       "550  54133478         0.139975      0.516025  \n",
       "175  53970843         0.124173      0.570663  \n",
       "185   4615464         0.117005      0.595447  \n",
       "9    45049676         0.107293      0.629027  \n",
       "8    28801798         0.102264      0.646415  \n",
       "118  38870173         0.094404      0.673590  \n",
       "134     20926         0.081478      0.718283  "
      ]
     },
     "execution_count": 84,
     "metadata": {},
     "output_type": "execute_result"
    }
   ],
   "source": [
    "#take the transpose of distance_matrix2 and merge with df2 dataframe to find \n",
    "#the pages that resembles the query text the most\n",
    "df2['cos_distance']=  distance_matrix2\n",
    "df2.sort_values(['cos_distance'], ascending = True).head(10)\n"
   ]
  },
  {
   "cell_type": "code",
   "execution_count": null,
   "metadata": {
    "collapsed": true
   },
   "outputs": [],
   "source": [
    "plt.figure(figsize=(6,6))\n",
    "pc_1 = latent_semantic_analysis['component_1'].values\n",
    "pc_2 = latent_semantic_analysis['component_2'].values\n",
    "\n",
    "plt.scatter(pc_1, pc_2, c=df['category_numerical'], cmap='rainbow')\n",
    "\n",
    "plt.xlabel('First PC')\n",
    "plt.ylabel('Second PC')\n",
    "plt.axvline(linewidth=0.5)\n",
    "plt.axhline(linewidth=0.5)\n",
    "plt.xlim(-.1,.8)\n",
    "plt.ylim(-.5,.8)"
   ]
  },
  {
   "cell_type": "code",
   "execution_count": null,
   "metadata": {
    "collapsed": true
   },
   "outputs": [],
   "source": [
    "plt.figure(figsize=(6,6))\n",
    "pc_1 = latent_semantic_analysis['component_1'].values\n",
    "pc_2 = latent_semantic_analysis['component_2'].values\n",
    "\n",
    "strings = df['page_text'].values\n",
    "for i, (x, y) in enumerate(zip(pc_1, pc_2)): \n",
    "    plt.text(x,y,strings[i][:10])\n",
    "\n",
    "plt.scatter(pc_1, pc_2, c=df['category_numerical'], cmap='rainbow')\n",
    "\n",
    "plt.xlabel('First PC')\n",
    "plt.ylabel('Second PC')\n",
    "plt.axvline(linewidth=0.5)\n",
    "plt.axhline(linewidth=0.5)\n",
    "plt.xlim(-.1,.8)\n",
    "plt.ylim(-.5,.8)"
   ]
  }
 ],
 "metadata": {
  "kernelspec": {
   "display_name": "Python 3",
   "language": "python",
   "name": "python3"
  },
  "language_info": {
   "codemirror_mode": {
    "name": "ipython",
    "version": 3
   },
   "file_extension": ".py",
   "mimetype": "text/x-python",
   "name": "python",
   "nbconvert_exporter": "python",
   "pygments_lexer": "ipython3",
   "version": "3.6.1"
  }
 },
 "nbformat": 4,
 "nbformat_minor": 2
}
