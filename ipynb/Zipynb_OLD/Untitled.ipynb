{
 "cells": [
  {
   "cell_type": "code",
   "execution_count": 1,
   "metadata": {
    "collapsed": true
   },
   "outputs": [],
   "source": [
    "import re\n",
    "import requests\n",
    "import pandas as pd"
   ]
  },
  {
   "cell_type": "code",
   "execution_count": 3,
   "metadata": {
    "collapsed": true
   },
   "outputs": [],
   "source": [
    "def generate_category(category ):\n",
    "    \"\"\"\n",
    "    format a category for insertion into a wikipedia api call\n",
    "    \"\"\"\n",
    "    category = re.sub('\\s','+', category)\n",
    "    return category"
   ]
  },
  {
   "cell_type": "code",
   "execution_count": 4,
   "metadata": {},
   "outputs": [
    {
     "data": {
      "text/plain": [
       "'machine+learning'"
      ]
     },
     "execution_count": 4,
     "metadata": {},
     "output_type": "execute_result"
    }
   ],
   "source": [
    "generate_category('machine learning')"
   ]
  },
  {
   "cell_type": "code",
   "execution_count": 16,
   "metadata": {
    "collapsed": true
   },
   "outputs": [],
   "source": [
    "def generate_query(category):\n",
    "    \"\"\"\n",
    "    format an api call for requests\n",
    "    \"\"\"\n",
    "    query = \"\"\"\n",
    "            http://en.wikipedia.org/w/api.php?\n",
    "            action=query&\n",
    "            format=json&\n",
    "            list=categorymembers&\n",
    "            cmtitle=Category:{}&\n",
    "            cmlimit=max\n",
    "            \"\"\".format(generate_category(category))\n",
    "    query = re.sub('\\s','', query)\n",
    "    return query"
   ]
  },
  {
   "cell_type": "code",
   "execution_count": 17,
   "metadata": {},
   "outputs": [
    {
     "data": {
      "text/plain": [
       "'http://en.wikipedia.org/w/api.php?action=query&format=json&list=categorymembers&cmtitle=Category:machine+learning&cmlimit=max'"
      ]
     },
     "execution_count": 17,
     "metadata": {},
     "output_type": "execute_result"
    }
   ],
   "source": [
    "generate_query('machine learning')"
   ]
  },
  {
   "cell_type": "code",
   "execution_count": 18,
   "metadata": {
    "collapsed": true
   },
   "outputs": [],
   "source": [
    "def execute_category_query(category):\n",
    "    '''\n",
    "    Executes a category qeury and returns a \n",
    "    DataFrame of the category members\n",
    "    '''\n",
    "    \n",
    "    r = requests.get(generate_query(category))\n",
    "    response = r.json()\n",
    "    return pd.DataFrame(response['query']['categorymembers'])\n",
    "    "
   ]
  },
  {
   "cell_type": "code",
   "execution_count": 25,
   "metadata": {
    "collapsed": true
   },
   "outputs": [],
   "source": [
    "test = execute_category_query('machine learning')"
   ]
  },
  {
   "cell_type": "code",
   "execution_count": 27,
   "metadata": {},
   "outputs": [
    {
     "data": {
      "text/plain": [
       "{'batchcomplete': '',\n",
       " 'limits': {'categorymembers': 500},\n",
       " 'query': {'categorymembers': [{'ns': 0,\n",
       "    'pageid': 43385931,\n",
       "    'title': 'Data exploration'},\n",
       "   {'ns': 0,\n",
       "    'pageid': 49082762,\n",
       "    'title': 'List of datasets for machine learning research'},\n",
       "   {'ns': 0, 'pageid': 233488, 'title': 'Machine learning'},\n",
       "   {'ns': 0, 'pageid': 53587467, 'title': 'Outline of machine learning'},\n",
       "   {'ns': 0, 'pageid': 53198248, 'title': 'Singular statistical model'},\n",
       "   {'ns': 0, 'pageid': 3771060, 'title': 'Accuracy paradox'},\n",
       "   {'ns': 0, 'pageid': 43808044, 'title': 'Action model learning'},\n",
       "   {'ns': 0,\n",
       "    'pageid': 28801798,\n",
       "    'title': 'Active learning (machine learning)'},\n",
       "   {'ns': 0, 'pageid': 45049676, 'title': 'Adversarial machine learning'},\n",
       "   {'ns': 0, 'pageid': 52642349, 'title': 'AIVA'},\n",
       "   {'ns': 0, 'pageid': 30511763, 'title': 'AIXI'},\n",
       "   {'ns': 0, 'pageid': 50773876, 'title': 'Algorithm Selection'},\n",
       "   {'ns': 0, 'pageid': 20890511, 'title': 'Algorithmic inference'},\n",
       "   {'ns': 0, 'pageid': 49242352, 'title': 'AlphaGo'},\n",
       "   {'ns': 0, 'pageid': 19463198, 'title': 'Apprenticeship learning'},\n",
       "   {'ns': 0, 'pageid': 14003441, 'title': 'Bag-of-words model'},\n",
       "   {'ns': 0, 'pageid': 31877832, 'title': 'Ball tree'},\n",
       "   {'ns': 0, 'pageid': 9732182, 'title': 'Base rate'},\n",
       "   {'ns': 0,\n",
       "    'pageid': 35867897,\n",
       "    'title': 'Bayesian interpretation of kernel regularization'},\n",
       "   {'ns': 0, 'pageid': 40973765, 'title': 'Bayesian optimization'},\n",
       "   {'ns': 0, 'pageid': 50211107, 'title': 'Bayesian structural time series'},\n",
       "   {'ns': 0, 'pageid': 40678189, 'title': 'Bias–variance tradeoff'},\n",
       "   {'ns': 0, 'pageid': 205393, 'title': 'Binary classification'},\n",
       "   {'ns': 0, 'pageid': 50646178, 'title': 'Bing Predicts'},\n",
       "   {'ns': 0, 'pageid': 1191936, 'title': 'Bongard problem'},\n",
       "   {'ns': 0, 'pageid': 44439173, 'title': 'Bradley–Terry model'},\n",
       "   {'ns': 0, 'pageid': 53631046, 'title': 'Caffe (software)'},\n",
       "   {'ns': 0, 'pageid': 39182554, 'title': 'Catastrophic interference'},\n",
       "   {'ns': 0, 'pageid': 8964665, 'title': 'Category utility'},\n",
       "   {'ns': 0, 'pageid': 17114678, 'title': 'CBCL (MIT)'},\n",
       "   {'ns': 0, 'pageid': 22795783, 'title': 'CIML community portal'},\n",
       "   {'ns': 0, 'pageid': 28650287, 'title': 'Cleverbot'},\n",
       "   {'ns': 0, 'pageid': 2934910, 'title': 'Cognitive robotics'},\n",
       "   {'ns': 0, 'pageid': 9583985, 'title': 'Committee machine'},\n",
       "   {'ns': 0, 'pageid': 387537, 'title': 'Computational learning theory'},\n",
       "   {'ns': 0, 'pageid': 3118600, 'title': 'Concept drift'},\n",
       "   {'ns': 0, 'pageid': 6968451, 'title': 'Concept learning'},\n",
       "   {'ns': 0, 'pageid': 4118276, 'title': 'Conditional random field'},\n",
       "   {'ns': 0, 'pageid': 847558, 'title': 'Confusion matrix'},\n",
       "   {'ns': 0,\n",
       "    'pageid': 54550729,\n",
       "    'title': 'Connectionist Temporal Classification (CTC)'},\n",
       "   {'ns': 0, 'pageid': 28255458, 'title': 'Constrained conditional model'},\n",
       "   {'ns': 0, 'pageid': 34042707, 'title': 'Coupled pattern learner'},\n",
       "   {'ns': 0, 'pageid': 5767980, 'title': 'Cross-entropy method'},\n",
       "   {'ns': 0, 'pageid': 416612, 'title': 'Cross-validation (statistics)'},\n",
       "   {'ns': 0, 'pageid': 787776, 'title': 'Curse of dimensionality'},\n",
       "   {'ns': 0, 'pageid': 49316492, 'title': 'Darkforest'},\n",
       "   {'ns': 0, 'pageid': 12386904, 'title': 'Data pre-processing'},\n",
       "   {'ns': 0, 'pageid': 51112472, 'title': 'Dataiku'},\n",
       "   {'ns': 0, 'pageid': 19317802, 'title': 'Decision list'},\n",
       "   {'ns': 0, 'pageid': 48290454, 'title': 'Deep feature synthesis'},\n",
       "   {'ns': 0, 'pageid': 43169442, 'title': 'Deeplearning4j'},\n",
       "   {'ns': 0, 'pageid': 41755648, 'title': 'DeepMind'},\n",
       "   {'ns': 0, 'pageid': 1422176, 'title': 'Developmental robotics'},\n",
       "   {'ns': 0, 'pageid': 579867, 'title': 'Dimensionality reduction'},\n",
       "   {'ns': 0, 'pageid': 12155912, 'title': 'Discriminative model'},\n",
       "   {'ns': 0, 'pageid': 1331441, 'title': 'Document classification'},\n",
       "   {'ns': 0, 'pageid': 45390860, 'title': 'Domain adaptation'},\n",
       "   {'ns': 0, 'pageid': 10747995, 'title': 'Eager learning'},\n",
       "   {'ns': 0, 'pageid': 213214, 'title': 'Early stopping'},\n",
       "   {'ns': 0, 'pageid': 13750669, 'title': 'Elastic matching'},\n",
       "   {'ns': 0, 'pageid': 1455062, 'title': 'Empirical risk minimization'},\n",
       "   {'ns': 0, 'pageid': 52003586, 'title': 'End-to-end reinforcement learning'},\n",
       "   {'ns': 0, 'pageid': 12304987, 'title': 'Ensembles of classifiers'},\n",
       "   {'ns': 0, 'pageid': 48833041, 'title': 'Error Tolerance (PAC learning)'},\n",
       "   {'ns': 0, 'pageid': 43218024, 'title': 'Evaluation of binary classifiers'},\n",
       "   {'ns': 0, 'pageid': 460689, 'title': 'Evolutionary programming'},\n",
       "   {'ns': 0, 'pageid': 8416103, 'title': 'Evolvability (computer science)'},\n",
       "   {'ns': 0, 'pageid': 14923880, 'title': 'Expectation propagation'},\n",
       "   {'ns': 0, 'pageid': 21638340, 'title': 'Explanation-based learning'},\n",
       "   {'ns': 0, 'pageid': 1299404, 'title': 'Feature (machine learning)'},\n",
       "   {'ns': 0, 'pageid': 46207323, 'title': 'Feature engineering'},\n",
       "   {'ns': 0, 'pageid': 36126852, 'title': 'Feature hashing'},\n",
       "   {'ns': 0, 'pageid': 38870173, 'title': 'Feature learning'},\n",
       "   {'ns': 0, 'pageid': 34061548, 'title': 'Feature scaling'},\n",
       "   {'ns': 0, 'pageid': 2085584, 'title': 'Feature vector'},\n",
       "   {'ns': 0, 'pageid': 313845, 'title': 'Formal concept analysis'},\n",
       "   {'ns': 0, 'pageid': 1222578, 'title': 'Generative model'},\n",
       "   {'ns': 0, 'pageid': 40254, 'title': 'Genetic algorithm'},\n",
       "   {'ns': 0,\n",
       "    'pageid': 50336055,\n",
       "    'title': 'Glossary of artificial intelligence'},\n",
       "   {'ns': 0, 'pageid': 4375576, 'title': 'Grammar induction'},\n",
       "   {'ns': 0, 'pageid': 1041204, 'title': 'Granular computing'},\n",
       "   {'ns': 0, 'pageid': 32402755, 'title': 'Hyperparameter (machine learning)'},\n",
       "   {'ns': 0, 'pageid': 5008963, 'title': 'Inauthentic text'},\n",
       "   {'ns': 0, 'pageid': 173926, 'title': 'Inductive bias'},\n",
       "   {'ns': 0, 'pageid': 42579971, 'title': 'Inductive probability'},\n",
       "   {'ns': 0, 'pageid': 41644056, 'title': 'Inductive programming'},\n",
       "   {'ns': 0, 'pageid': 33762888, 'title': 'Inferential theory of learning'},\n",
       "   {'ns': 0, 'pageid': 53279262, 'title': 'Instance selection'},\n",
       "   {'ns': 0, 'pageid': 22589574, 'title': 'Instance-based learning'},\n",
       "   {'ns': 0,\n",
       "    'pageid': 470314,\n",
       "    'title': 'Instantaneously trained neural networks'},\n",
       "   {'ns': 0, 'pageid': 48987892, 'title': 'Isotropic position'},\n",
       "   {'ns': 0,\n",
       "    'pageid': 5721283,\n",
       "    'title': 'Journal of Machine Learning Research'},\n",
       "   {'ns': 0, 'pageid': 2090057, 'title': 'Kernel density estimation'},\n",
       "   {'ns': 0, 'pageid': 41370976, 'title': 'Kernel embedding of distributions'},\n",
       "   {'ns': 0, 'pageid': 46798615, 'title': 'Kernel random forest'},\n",
       "   {'ns': 0, 'pageid': 4144848, 'title': 'Knowledge integration'},\n",
       "   {'ns': 0, 'pageid': 43688866, 'title': 'Knowledge Vault'},\n",
       "   {'ns': 0, 'pageid': 54033657, 'title': 'Labeled data'},\n",
       "   {'ns': 0, 'pageid': 28037054, 'title': 'Large margin nearest neighbor'},\n",
       "   {'ns': 0, 'pageid': 10747879, 'title': 'Lazy learning'},\n",
       "   {'ns': 0, 'pageid': 48827727, 'title': 'Learnable function class'},\n",
       "   {'ns': 0, 'pageid': 3274742, 'title': 'Learning automata'},\n",
       "   {'ns': 0, 'pageid': 25050663, 'title': 'Learning to rank'},\n",
       "   {'ns': 0, 'pageid': 23864530, 'title': 'Learning with errors'},\n",
       "   {'ns': 0, 'pageid': 33890474, 'title': 'Leave-one-out error'},\n",
       "   {'ns': 0, 'pageid': 35272263, 'title': 'Linear predictor function'},\n",
       "   {'ns': 0, 'pageid': 523173, 'title': 'Linear separability'},\n",
       "   {'ns': 0, 'pageid': 46963137, 'title': 'Local case-control sampling'},\n",
       "   {'ns': 2, 'pageid': 53047074, 'title': 'User:Luca Innocenti/sandbox'},\n",
       "   {'ns': 0, 'pageid': 44632031, 'title': 'M-Theory (learning framework)'},\n",
       "   {'ns': 0, 'pageid': 45378845, 'title': 'Logic learning machine'},\n",
       "   {'ns': 0, 'pageid': 5721403, 'title': 'Machine Learning (journal)'},\n",
       "   {'ns': 0, 'pageid': 53802271, 'title': 'Machine learning control'},\n",
       "   {'ns': 0,\n",
       "    'pageid': 53970843,\n",
       "    'title': 'Machine learning in bioinformatics'},\n",
       "   {'ns': 0, 'pageid': 48777199, 'title': 'Manifold regularization'},\n",
       "   {'ns': 2, 'pageid': 53049812, 'title': 'User:Maria Schuld/sandbox'},\n",
       "   {'ns': 0, 'pageid': 47937215, 'title': 'The Master Algorithm'},\n",
       "   {'ns': 0, 'pageid': 44628821, 'title': 'Matrix regularization'},\n",
       "   {'ns': 0, 'pageid': 12306500, 'title': 'Matthews correlation coefficient'},\n",
       "   {'ns': 0, 'pageid': 4615464, 'title': 'Meta learning (computer science)'},\n",
       "   {'ns': 0, 'pageid': 871681, 'title': 'Mixture model'},\n",
       "   {'ns': 0, 'pageid': 33998310, 'title': 'Mountain Car'},\n",
       "   {'ns': 0, 'pageid': 49786340, 'title': 'Movidius'},\n",
       "   {'ns': 0, 'pageid': 2854828, 'title': 'Multi-armed bandit'},\n",
       "   {'ns': 0, 'pageid': 938663, 'title': 'Multi-task learning'},\n",
       "   {'ns': 0,\n",
       "    'pageid': 30928751,\n",
       "    'title': 'Multilinear principal component analysis'},\n",
       "   {'ns': 0, 'pageid': 30909817, 'title': 'Multilinear subspace learning'},\n",
       "   {'ns': 0, 'pageid': 48841414, 'title': 'Multiple instance learning'},\n",
       "   {'ns': 0, 'pageid': 14082194, 'title': 'Multiple-instance learning'},\n",
       "   {'ns': 0,\n",
       "    'pageid': 52242050,\n",
       "    'title': 'Multiplicative Weight Update Method'},\n",
       "   {'ns': 0,\n",
       "    'pageid': 18475546,\n",
       "    'title': 'Multivariate adaptive regression splines'},\n",
       "   {'ns': 0, 'pageid': 48976249, 'title': 'MysteryVibe'},\n",
       "   {'ns': 0, 'pageid': 45627703, 'title': 'Native-language identification'},\n",
       "   {'ns': 0, 'pageid': 7309022, 'title': 'Nearest neighbor search'},\n",
       "   {'ns': 0, 'pageid': 19208664, 'title': 'Neural modeling fields'},\n",
       "   {'ns': 0, 'pageid': 44577560, 'title': 'Occam learning'},\n",
       "   {'ns': 0, 'pageid': 10748030, 'title': 'Offline learning'},\n",
       "   {'ns': 0, 'pageid': 42129549, 'title': 'OpenNN'},\n",
       "   {'ns': 0, 'pageid': 173332, 'title': 'Overfitting'},\n",
       "   {'ns': 0, 'pageid': 23864280, 'title': 'Parity learning'},\n",
       "   {'ns': 0,\n",
       "    'pageid': 40946774,\n",
       "    'title': 'Pattern language (formal languages)'},\n",
       "   {'ns': 0, 'pageid': 126706, 'title': 'Pattern recognition'},\n",
       "   {'ns': 0, 'pageid': 2291650, 'title': 'Predictive learning'},\n",
       "   {'ns': 0, 'pageid': 11360852, 'title': 'Predictive state representation'},\n",
       "   {'ns': 0, 'pageid': 34072838, 'title': 'Preference learning'},\n",
       "   {'ns': 0,\n",
       "    'pageid': 6881120,\n",
       "    'title': 'Prior knowledge for pattern recognition'},\n",
       "   {'ns': 0, 'pageid': 21985449, 'title': 'Proactive learning'},\n",
       "   {'ns': 0, 'pageid': 9731945, 'title': 'Probability matching'},\n",
       "   {'ns': 0, 'pageid': 24825162, 'title': 'Product of experts'},\n",
       "   {'ns': 0,\n",
       "    'pageid': 41200806,\n",
       "    'title': 'Proximal gradient methods for learning'},\n",
       "   {'ns': 0, 'pageid': 41732818, 'title': 'Qloo'},\n",
       "   {'ns': 0, 'pageid': 44108758, 'title': 'Quantum machine learning'},\n",
       "   {'ns': 0, 'pageid': 41929726, 'title': 'Query level feature'},\n",
       "   {'ns': 0, 'pageid': 14529261, 'title': 'Rademacher complexity'},\n",
       "   {'ns': 0, 'pageid': 37697003, 'title': 'Random indexing'},\n",
       "   {'ns': 0, 'pageid': 43932548, 'title': 'Random projection'},\n",
       "   {'ns': 0, 'pageid': 926722, 'title': 'Relational data mining'},\n",
       "   {'ns': 0, 'pageid': 35887507, 'title': 'Representer theorem'},\n",
       "   {'ns': 0, 'pageid': 54625345, 'title': 'Right to explanation'},\n",
       "   {'ns': 0, 'pageid': 38782554, 'title': 'RoboEarth'},\n",
       "   {'ns': 0, 'pageid': 3290880, 'title': 'Robot learning'},\n",
       "   {'ns': 0, 'pageid': 7517319, 'title': 'Rule induction'},\n",
       "   {'ns': 0, 'pageid': 43269516, 'title': 'Sample complexity'},\n",
       "   {'ns': 0, 'pageid': 995455, 'title': 'Savi Technology'},\n",
       "   {'ns': 0,\n",
       "    'pageid': 14271782,\n",
       "    'title': 'Semantic analysis (machine learning)'},\n",
       "   {'ns': 0, 'pageid': 50222574, 'title': 'Semantic folding'},\n",
       "   {'ns': 0, 'pageid': 2829632, 'title': 'Semi-supervised learning'},\n",
       "   {'ns': 0, 'pageid': 29288159, 'title': 'Sequence labeling'},\n",
       "   {'ns': 0, 'pageid': 38059657, 'title': 'Similarity learning'},\n",
       "   {'ns': 0, 'pageid': 47509138, 'title': 'Skymind'},\n",
       "   {'ns': 0,\n",
       "    'pageid': 405562,\n",
       "    'title': \"Solomonoff's theory of inductive inference\"},\n",
       "   {'ns': 0, 'pageid': 48813654, 'title': 'Sparse dictionary learning'},\n",
       "   {'ns': 0, 'pageid': 50227596, 'title': 'Spike-and-slab variable selection'},\n",
       "   {'ns': 0, 'pageid': 33886025, 'title': 'Stability (learning theory)'},\n",
       "   {'ns': 0, 'pageid': 1579244, 'title': 'Statistical classification'},\n",
       "   {'ns': 0, 'pageid': 1053303, 'title': 'Statistical learning theory'},\n",
       "   {'ns': 0, 'pageid': 19667111, 'title': 'Statistical relational learning'},\n",
       "   {'ns': 0, 'pageid': 47845063, 'title': 'Stochastic block model'},\n",
       "   {'ns': 0, 'pageid': 10704974, 'title': 'Structural risk minimization'},\n",
       "   {'ns': 0,\n",
       "    'pageid': 48844125,\n",
       "    'title': 'Structured sparsity regularization'},\n",
       "   {'ns': 0, 'pageid': 3119546, 'title': 'Subclass reachability'},\n",
       "   {'ns': 0, 'pageid': 20926, 'title': 'Supervised learning'},\n",
       "   {'ns': 0, 'pageid': 1514392, 'title': 'Test set'},\n",
       "   {'ns': 0, 'pageid': 50828755, 'title': 'Timeline of machine learning'},\n",
       "   {'ns': 0, 'pageid': 960361, 'title': 'Transduction (machine learning)'},\n",
       "   {'ns': 0, 'pageid': 3920550, 'title': 'Transfer learning'},\n",
       "   {'ns': 0, 'pageid': 47577902, 'title': 'Trax Image Recognition'},\n",
       "   {'ns': 0, 'pageid': 5077439, 'title': 'Ugly duckling theorem'},\n",
       "   {'ns': 0, 'pageid': 19058043, 'title': 'Uncertain data'},\n",
       "   {'ns': 0,\n",
       "    'pageid': 22999791,\n",
       "    'title': 'Uniform convergence in probability'},\n",
       "   {'ns': 0, 'pageid': 37787103, 'title': 'Universal portfolio algorithm'},\n",
       "   {'ns': 0, 'pageid': 233497, 'title': 'Unsupervised learning'},\n",
       "   {'ns': 0, 'pageid': 47228422, 'title': 'User behavior analytics'},\n",
       "   {'ns': 0, 'pageid': 39945557, 'title': 'Validation set'},\n",
       "   {'ns': 0, 'pageid': 43502368, 'title': 'Vanishing gradient problem'},\n",
       "   {'ns': 0, 'pageid': 7578809, 'title': 'Version space learning'},\n",
       "   {'ns': 0, 'pageid': 52992310, 'title': 'VGG Image Annotator'},\n",
       "   {'ns': 0, 'pageid': 47527969, 'title': 'Word2vec'},\n",
       "   {'ns': 14,\n",
       "    'pageid': 33547387,\n",
       "    'title': 'Category:Applied machine learning'},\n",
       "   {'ns': 14,\n",
       "    'pageid': 42936114,\n",
       "    'title': 'Category:Artificial neural networks'},\n",
       "   {'ns': 14, 'pageid': 1718975, 'title': 'Category:Bayesian networks'},\n",
       "   {'ns': 14,\n",
       "    'pageid': 1991254,\n",
       "    'title': 'Category:Classification algorithms'},\n",
       "   {'ns': 14, 'pageid': 22532673, 'title': 'Category:Cluster analysis'},\n",
       "   {'ns': 14,\n",
       "    'pageid': 34310097,\n",
       "    'title': 'Category:Computational learning theory'},\n",
       "   {'ns': 14,\n",
       "    'pageid': 12932492,\n",
       "    'title': 'Category:Artificial intelligence conferences'},\n",
       "   {'ns': 14,\n",
       "    'pageid': 33542714,\n",
       "    'title': 'Category:Data mining and machine learning software'},\n",
       "   {'ns': 14,\n",
       "    'pageid': 42320378,\n",
       "    'title': 'Category:Datasets in machine learning'},\n",
       "   {'ns': 14, 'pageid': 29549713, 'title': 'Category:Dimension reduction'},\n",
       "   {'ns': 14, 'pageid': 3985352, 'title': 'Category:Ensemble learning'},\n",
       "   {'ns': 14, 'pageid': 754055, 'title': 'Category:Evolutionary algorithms'},\n",
       "   {'ns': 14, 'pageid': 3061615, 'title': 'Category:Genetic programming'},\n",
       "   {'ns': 14,\n",
       "    'pageid': 29003796,\n",
       "    'title': 'Category:Inductive logic programming'},\n",
       "   {'ns': 14,\n",
       "    'pageid': 12535256,\n",
       "    'title': 'Category:Kernel methods for machine learning'},\n",
       "   {'ns': 14, 'pageid': 20924581, 'title': 'Category:Latent variable models'},\n",
       "   {'ns': 14,\n",
       "    'pageid': 19314112,\n",
       "    'title': 'Category:Learning in computer vision'},\n",
       "   {'ns': 14, 'pageid': 36407925, 'title': 'Category:Log-linear models'},\n",
       "   {'ns': 14, 'pageid': 28004586, 'title': 'Category:Loss functions'},\n",
       "   {'ns': 14,\n",
       "    'pageid': 33547228,\n",
       "    'title': 'Category:Machine learning algorithms'},\n",
       "   {'ns': 14, 'pageid': 44943481, 'title': 'Category:Machine learning portal'},\n",
       "   {'ns': 14, 'pageid': 47991509, 'title': 'Category:Machine learning task'},\n",
       "   {'ns': 14, 'pageid': 24059390, 'title': 'Category:Markov models'},\n",
       "   {'ns': 14,\n",
       "    'pageid': 3832584,\n",
       "    'title': 'Category:Machine learning researchers'},\n",
       "   {'ns': 14, 'pageid': 52763829, 'title': 'Category:Semisupervised learning'},\n",
       "   {'ns': 14,\n",
       "    'pageid': 11737376,\n",
       "    'title': 'Category:Statistical natural language processing'},\n",
       "   {'ns': 14, 'pageid': 40149461, 'title': 'Category:Structured prediction'},\n",
       "   {'ns': 14, 'pageid': 52763867, 'title': 'Category:Supervised learning'},\n",
       "   {'ns': 14, 'pageid': 31176997, 'title': 'Category:Support vector machines'},\n",
       "   {'ns': 14, 'pageid': 52763828, 'title': 'Category:Unsupervised learning'}]}}"
      ]
     },
     "execution_count": 27,
     "metadata": {},
     "output_type": "execute_result"
    }
   ],
   "source": [
    "test"
   ]
  },
  {
   "cell_type": "code",
   "execution_count": 29,
   "metadata": {},
   "outputs": [
    {
     "ename": "KeyError",
     "evalue": "'title'",
     "output_type": "error",
     "traceback": [
      "\u001b[0;31m---------------------------------------------------------------------------\u001b[0m",
      "\u001b[0;31mKeyError\u001b[0m                                  Traceback (most recent call last)",
      "\u001b[0;32m<ipython-input-29-43dee61b2efe>\u001b[0m in \u001b[0;36m<module>\u001b[0;34m()\u001b[0m\n\u001b[0;32m----> 1\u001b[0;31m \u001b[0mcategory_mask\u001b[0m \u001b[0;34m=\u001b[0m \u001b[0mtest\u001b[0m\u001b[0;34m[\u001b[0m\u001b[0;34m'title'\u001b[0m\u001b[0;34m]\u001b[0m\u001b[0;34m.\u001b[0m\u001b[0mstr\u001b[0m\u001b[0;34m.\u001b[0m\u001b[0mcontains\u001b[0m\u001b[0;34m(\u001b[0m\u001b[0;34m'Category:'\u001b[0m\u001b[0;34m)\u001b[0m\u001b[0;34m\u001b[0m\u001b[0m\n\u001b[0m",
      "\u001b[0;31mKeyError\u001b[0m: 'title'"
     ]
    }
   ],
   "source": [
    "category_mask = test['title'].str.contains('Category:')"
   ]
  },
  {
   "cell_type": "code",
   "execution_count": 31,
   "metadata": {},
   "outputs": [],
   "source": [
    "def remove_category(category):\n",
    "    category = re.sub('Category:','',category)\n",
    "    return category"
   ]
  },
  {
   "cell_type": "code",
   "execution_count": 32,
   "metadata": {},
   "outputs": [
    {
     "ename": "NameError",
     "evalue": "name 'category_mask' is not defined",
     "output_type": "error",
     "traceback": [
      "\u001b[0;31m---------------------------------------------------------------------------\u001b[0m",
      "\u001b[0;31mNameError\u001b[0m                                 Traceback (most recent call last)",
      "\u001b[0;32m<ipython-input-32-378eaf85d6d9>\u001b[0m in \u001b[0;36m<module>\u001b[0;34m()\u001b[0m\n\u001b[0;32m----> 1\u001b[0;31m \u001b[0mcategories_to_query\u001b[0m \u001b[0;34m=\u001b[0m \u001b[0mtest\u001b[0m\u001b[0;34m[\u001b[0m\u001b[0mcategory_mask\u001b[0m\u001b[0;34m]\u001b[0m\u001b[0;34m[\u001b[0m\u001b[0;34m'title'\u001b[0m\u001b[0;34m]\u001b[0m\u001b[0;34m.\u001b[0m\u001b[0mapply\u001b[0m\u001b[0;34m(\u001b[0m\u001b[0;34m)\u001b[0m\u001b[0;34m\u001b[0m\u001b[0m\n\u001b[0m",
      "\u001b[0;31mNameError\u001b[0m: name 'category_mask' is not defined"
     ]
    }
   ],
   "source": [
    "categories_to_query = test[category_mask]['title'].apply()"
   ]
  },
  {
   "cell_type": "code",
   "execution_count": 22,
   "metadata": {},
   "outputs": [
    {
     "ename": "NameError",
     "evalue": "name 'test' is not defined",
     "output_type": "error",
     "traceback": [
      "\u001b[0;31m---------------------------------------------------------------------------\u001b[0m",
      "\u001b[0;31mNameError\u001b[0m                                 Traceback (most recent call last)",
      "\u001b[0;32m<ipython-input-22-d50b8150617c>\u001b[0m in \u001b[0;36m<module>\u001b[0;34m()\u001b[0m\n\u001b[0;32m----> 1\u001b[0;31m \u001b[0mcategories_to_query\u001b[0m \u001b[0;34m=\u001b[0m \u001b[0mtest\u001b[0m\u001b[0;34m[\u001b[0m\u001b[0mcategory_mask\u001b[0m\u001b[0;34m]\u001b[0m\u001b[0;34m[\u001b[0m\u001b[0;34m'title'\u001b[0m\u001b[0;34m]\u001b[0m\u001b[0;34m.\u001b[0m\u001b[0mapply\u001b[0m\u001b[0;34m(\u001b[0m\u001b[0mremove_category\u001b[0m\u001b[0;34m)\u001b[0m\u001b[0;34m.\u001b[0m\u001b[0mtolist\u001b[0m\u001b[0;34m(\u001b[0m\u001b[0;34m)\u001b[0m\u001b[0;34m\u001b[0m\u001b[0m\n\u001b[0m",
      "\u001b[0;31mNameError\u001b[0m: name 'test' is not defined"
     ]
    }
   ],
   "source": [
    "categories_to_query = test[category_mask]['title'].apply(remove_category).tolist()"
   ]
  },
  {
   "cell_type": "code",
   "execution_count": 30,
   "metadata": {},
   "outputs": [
    {
     "ename": "NameError",
     "evalue": "name 'categories_to_query' is not defined",
     "output_type": "error",
     "traceback": [
      "\u001b[0;31m---------------------------------------------------------------------------\u001b[0m",
      "\u001b[0;31mNameError\u001b[0m                                 Traceback (most recent call last)",
      "\u001b[0;32m<ipython-input-30-62cc5ae60e5e>\u001b[0m in \u001b[0;36m<module>\u001b[0;34m()\u001b[0m\n\u001b[0;32m----> 1\u001b[0;31m \u001b[0;32mfor\u001b[0m \u001b[0mcategory\u001b[0m \u001b[0;32min\u001b[0m \u001b[0mcategories_to_query\u001b[0m\u001b[0;34m:\u001b[0m\u001b[0;34m\u001b[0m\u001b[0m\n\u001b[0m\u001b[1;32m      2\u001b[0m     \u001b[0msubcat_df_list\u001b[0m\u001b[0;34m.\u001b[0m\u001b[0mappend\u001b[0m\u001b[0;34m(\u001b[0m\u001b[0mexecute_ctegory_query\u001b[0m\u001b[0;34m(\u001b[0m\u001b[0mcategory\u001b[0m\u001b[0;34m)\u001b[0m\u001b[0;34m)\u001b[0m\u001b[0;34m\u001b[0m\u001b[0m\n",
      "\u001b[0;31mNameError\u001b[0m: name 'categories_to_query' is not defined"
     ]
    }
   ],
   "source": [
    "for category in categories_to_query:\n",
    "    subcat_df_list.append(execute_ctegory_query(category))"
   ]
  },
  {
   "cell_type": "code",
   "execution_count": null,
   "metadata": {
    "collapsed": true
   },
   "outputs": [],
   "source": [
    "len(subcat_df_list)"
   ]
  },
  {
   "cell_type": "code",
   "execution_count": 33,
   "metadata": {
    "collapsed": true
   },
   "outputs": [],
   "source": [
    "def get_all_pages_rec(category):\n",
    "    category_df = execute_category_query(category)\n",
    "    pages_list = []\n",
    "    category_mask = category_df['title'].str.contains('Category:')\n",
    "    pages_df = category_df[~category_mask]\n",
    "    pages_list.append(pages_df)\n",
    "    categories = category_df[category_mask]['title']\\\n",
    "                            .str.replace('Category:','').tolist()\n",
    "    if len(categories) > 0:\n",
    "        for cat in categories:\n",
    "            pages_list.append(get_all_pages_rec(cat))\n",
    "    \n",
    "    pages_df = pd.concat(pages_list)\n",
    "    pages_df.reset_index()\n",
    "    return pages_df"
   ]
  },
  {
   "cell_type": "code",
   "execution_count": null,
   "metadata": {
    "collapsed": true
   },
   "outputs": [],
   "source": []
  }
 ],
 "metadata": {
  "kernelspec": {
   "display_name": "Python 3",
   "language": "python",
   "name": "python3"
  },
  "language_info": {
   "codemirror_mode": {
    "name": "ipython",
    "version": 3
   },
   "file_extension": ".py",
   "mimetype": "text/x-python",
   "name": "python",
   "nbconvert_exporter": "python",
   "pygments_lexer": "ipython3",
   "version": "3.6.1"
  }
 },
 "nbformat": 4,
 "nbformat_minor": 2
}
